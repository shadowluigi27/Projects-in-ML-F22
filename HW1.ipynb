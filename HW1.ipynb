{
  "nbformat": 4,
  "nbformat_minor": 0,
  "metadata": {
    "colab": {
      "provenance": [],
      "collapsed_sections": [],
      "authorship_tag": "ABX9TyMIbZWR2FuWzc/QmlCRNcPl",
      "include_colab_link": true
    },
    "kernelspec": {
      "name": "python3",
      "display_name": "Python 3"
    },
    "language_info": {
      "name": "python"
    }
  },
  "cells": [
    {
      "cell_type": "markdown",
      "metadata": {
        "id": "view-in-github",
        "colab_type": "text"
      },
      "source": [
        "<a href=\"https://colab.research.google.com/github/shadowluigi27/Projects-in-ML-F22/blob/main/HW1.ipynb\" target=\"_parent\"><img src=\"https://colab.research.google.com/assets/colab-badge.svg\" alt=\"Open In Colab\"/></a>"
      ]
    },
    {
      "cell_type": "markdown",
      "source": [
        "# Task 1: \n",
        "The problem I would like to solve with ML is to determine if the gender,age,or salary of a person determines if they would want to buy a car.\n",
        "\n",
        "This is best used using logistic regression since salary and ages are continous values.\n"
      ],
      "metadata": {
        "id": "f0oXkTnoaygE"
      }
    },
    {
      "cell_type": "code",
      "execution_count": 708,
      "metadata": {
        "id": "CJzNY-wGaZGd"
      },
      "outputs": [],
      "source": [
        "# import required libraries\n",
        "import pandas as pd\n",
        "import matplotlib.pyplot as plt\n",
        "import seaborn as sns\n",
        "import numpy as np\n",
        "import math\n",
        "\n",
        "from sklearn.preprocessing import MinMaxScaler\n",
        "from sklearn.model_selection import train_test_split\n",
        "from sklearn.linear_model import LogisticRegression\n",
        "from sklearn.svm import SVC\n",
        "from sklearn.ensemble import RandomForestClassifier\n",
        "from sklearn.ensemble import GradientBoostingClassifier\n",
        "from sklearn.metrics import accuracy_score\n",
        "from sklearn.metrics import f1_score\n",
        "from sklearn.preprocessing import Normalizer\n",
        "from sklearn.preprocessing import MinMaxScaler"
      ]
    },
    {
      "cell_type": "markdown",
      "source": [
        "# Task 2: \n",
        "Dataset link: https://www.kaggle.com/datasets/gauravtopre/bank-customer-churn-dataset \n",
        "\n",
        "EDA of dataset below\n"
      ],
      "metadata": {
        "id": "09yNdflZbUjV"
      }
    },
    {
      "cell_type": "code",
      "source": [
        "df = pd.read_csv('car_data.csv')\n",
        "df.head()"
      ],
      "metadata": {
        "colab": {
          "base_uri": "https://localhost:8080/",
          "height": 0
        },
        "id": "zc-Piea8egqH",
        "outputId": "cafe6361-852f-4f5f-dd85-41b61f7a411e"
      },
      "execution_count": 709,
      "outputs": [
        {
          "output_type": "execute_result",
          "data": {
            "text/plain": [
              "   User ID Gender  Age  AnnualSalary  Purchased\n",
              "0      385   Male   35         20000          0\n",
              "1      681   Male   40         43500          0\n",
              "2      353   Male   49         74000          0\n",
              "3      895   Male   40        107500          1\n",
              "4      661   Male   25         79000          0"
            ],
            "text/html": [
              "\n",
              "  <div id=\"df-b77fc862-1e31-40fb-ac78-ce87a8519955\">\n",
              "    <div class=\"colab-df-container\">\n",
              "      <div>\n",
              "<style scoped>\n",
              "    .dataframe tbody tr th:only-of-type {\n",
              "        vertical-align: middle;\n",
              "    }\n",
              "\n",
              "    .dataframe tbody tr th {\n",
              "        vertical-align: top;\n",
              "    }\n",
              "\n",
              "    .dataframe thead th {\n",
              "        text-align: right;\n",
              "    }\n",
              "</style>\n",
              "<table border=\"1\" class=\"dataframe\">\n",
              "  <thead>\n",
              "    <tr style=\"text-align: right;\">\n",
              "      <th></th>\n",
              "      <th>User ID</th>\n",
              "      <th>Gender</th>\n",
              "      <th>Age</th>\n",
              "      <th>AnnualSalary</th>\n",
              "      <th>Purchased</th>\n",
              "    </tr>\n",
              "  </thead>\n",
              "  <tbody>\n",
              "    <tr>\n",
              "      <th>0</th>\n",
              "      <td>385</td>\n",
              "      <td>Male</td>\n",
              "      <td>35</td>\n",
              "      <td>20000</td>\n",
              "      <td>0</td>\n",
              "    </tr>\n",
              "    <tr>\n",
              "      <th>1</th>\n",
              "      <td>681</td>\n",
              "      <td>Male</td>\n",
              "      <td>40</td>\n",
              "      <td>43500</td>\n",
              "      <td>0</td>\n",
              "    </tr>\n",
              "    <tr>\n",
              "      <th>2</th>\n",
              "      <td>353</td>\n",
              "      <td>Male</td>\n",
              "      <td>49</td>\n",
              "      <td>74000</td>\n",
              "      <td>0</td>\n",
              "    </tr>\n",
              "    <tr>\n",
              "      <th>3</th>\n",
              "      <td>895</td>\n",
              "      <td>Male</td>\n",
              "      <td>40</td>\n",
              "      <td>107500</td>\n",
              "      <td>1</td>\n",
              "    </tr>\n",
              "    <tr>\n",
              "      <th>4</th>\n",
              "      <td>661</td>\n",
              "      <td>Male</td>\n",
              "      <td>25</td>\n",
              "      <td>79000</td>\n",
              "      <td>0</td>\n",
              "    </tr>\n",
              "  </tbody>\n",
              "</table>\n",
              "</div>\n",
              "      <button class=\"colab-df-convert\" onclick=\"convertToInteractive('df-b77fc862-1e31-40fb-ac78-ce87a8519955')\"\n",
              "              title=\"Convert this dataframe to an interactive table.\"\n",
              "              style=\"display:none;\">\n",
              "        \n",
              "  <svg xmlns=\"http://www.w3.org/2000/svg\" height=\"24px\"viewBox=\"0 0 24 24\"\n",
              "       width=\"24px\">\n",
              "    <path d=\"M0 0h24v24H0V0z\" fill=\"none\"/>\n",
              "    <path d=\"M18.56 5.44l.94 2.06.94-2.06 2.06-.94-2.06-.94-.94-2.06-.94 2.06-2.06.94zm-11 1L8.5 8.5l.94-2.06 2.06-.94-2.06-.94L8.5 2.5l-.94 2.06-2.06.94zm10 10l.94 2.06.94-2.06 2.06-.94-2.06-.94-.94-2.06-.94 2.06-2.06.94z\"/><path d=\"M17.41 7.96l-1.37-1.37c-.4-.4-.92-.59-1.43-.59-.52 0-1.04.2-1.43.59L10.3 9.45l-7.72 7.72c-.78.78-.78 2.05 0 2.83L4 21.41c.39.39.9.59 1.41.59.51 0 1.02-.2 1.41-.59l7.78-7.78 2.81-2.81c.8-.78.8-2.07 0-2.86zM5.41 20L4 18.59l7.72-7.72 1.47 1.35L5.41 20z\"/>\n",
              "  </svg>\n",
              "      </button>\n",
              "      \n",
              "  <style>\n",
              "    .colab-df-container {\n",
              "      display:flex;\n",
              "      flex-wrap:wrap;\n",
              "      gap: 12px;\n",
              "    }\n",
              "\n",
              "    .colab-df-convert {\n",
              "      background-color: #E8F0FE;\n",
              "      border: none;\n",
              "      border-radius: 50%;\n",
              "      cursor: pointer;\n",
              "      display: none;\n",
              "      fill: #1967D2;\n",
              "      height: 32px;\n",
              "      padding: 0 0 0 0;\n",
              "      width: 32px;\n",
              "    }\n",
              "\n",
              "    .colab-df-convert:hover {\n",
              "      background-color: #E2EBFA;\n",
              "      box-shadow: 0px 1px 2px rgba(60, 64, 67, 0.3), 0px 1px 3px 1px rgba(60, 64, 67, 0.15);\n",
              "      fill: #174EA6;\n",
              "    }\n",
              "\n",
              "    [theme=dark] .colab-df-convert {\n",
              "      background-color: #3B4455;\n",
              "      fill: #D2E3FC;\n",
              "    }\n",
              "\n",
              "    [theme=dark] .colab-df-convert:hover {\n",
              "      background-color: #434B5C;\n",
              "      box-shadow: 0px 1px 3px 1px rgba(0, 0, 0, 0.15);\n",
              "      filter: drop-shadow(0px 1px 2px rgba(0, 0, 0, 0.3));\n",
              "      fill: #FFFFFF;\n",
              "    }\n",
              "  </style>\n",
              "\n",
              "      <script>\n",
              "        const buttonEl =\n",
              "          document.querySelector('#df-b77fc862-1e31-40fb-ac78-ce87a8519955 button.colab-df-convert');\n",
              "        buttonEl.style.display =\n",
              "          google.colab.kernel.accessAllowed ? 'block' : 'none';\n",
              "\n",
              "        async function convertToInteractive(key) {\n",
              "          const element = document.querySelector('#df-b77fc862-1e31-40fb-ac78-ce87a8519955');\n",
              "          const dataTable =\n",
              "            await google.colab.kernel.invokeFunction('convertToInteractive',\n",
              "                                                     [key], {});\n",
              "          if (!dataTable) return;\n",
              "\n",
              "          const docLinkHtml = 'Like what you see? Visit the ' +\n",
              "            '<a target=\"_blank\" href=https://colab.research.google.com/notebooks/data_table.ipynb>data table notebook</a>'\n",
              "            + ' to learn more about interactive tables.';\n",
              "          element.innerHTML = '';\n",
              "          dataTable['output_type'] = 'display_data';\n",
              "          await google.colab.output.renderOutput(dataTable, element);\n",
              "          const docLink = document.createElement('div');\n",
              "          docLink.innerHTML = docLinkHtml;\n",
              "          element.appendChild(docLink);\n",
              "        }\n",
              "      </script>\n",
              "    </div>\n",
              "  </div>\n",
              "  "
            ]
          },
          "metadata": {},
          "execution_count": 709
        }
      ]
    },
    {
      "cell_type": "code",
      "source": [
        "df.shape"
      ],
      "metadata": {
        "colab": {
          "base_uri": "https://localhost:8080/"
        },
        "id": "Q_mBdcP2gTUi",
        "outputId": "4d077a2a-a3b9-4584-a933-a9d7ea2e25a9"
      },
      "execution_count": 710,
      "outputs": [
        {
          "output_type": "execute_result",
          "data": {
            "text/plain": [
              "(1000, 5)"
            ]
          },
          "metadata": {},
          "execution_count": 710
        }
      ]
    },
    {
      "cell_type": "code",
      "source": [
        "df.isna().sum()"
      ],
      "metadata": {
        "colab": {
          "base_uri": "https://localhost:8080/"
        },
        "id": "0H3-qeDGgY9q",
        "outputId": "a6720816-107f-4b12-8bd2-bbaa2db6e61e"
      },
      "execution_count": 711,
      "outputs": [
        {
          "output_type": "execute_result",
          "data": {
            "text/plain": [
              "User ID         0\n",
              "Gender          0\n",
              "Age             0\n",
              "AnnualSalary    0\n",
              "Purchased       0\n",
              "dtype: int64"
            ]
          },
          "metadata": {},
          "execution_count": 711
        }
      ]
    },
    {
      "cell_type": "markdown",
      "source": [
        "No missing Data, user ID is only an identifier, not useful for data"
      ],
      "metadata": {
        "id": "zlPj5ELOKJgk"
      }
    },
    {
      "cell_type": "code",
      "source": [
        "df = df.drop('User ID', axis=1)"
      ],
      "metadata": {
        "id": "wuFz8j36Jnve"
      },
      "execution_count": 712,
      "outputs": []
    },
    {
      "cell_type": "code",
      "source": [
        "df.describe()"
      ],
      "metadata": {
        "colab": {
          "base_uri": "https://localhost:8080/",
          "height": 0
        },
        "id": "LBSN8UIfy5Bn",
        "outputId": "e9e4a485-3f8c-495b-9b0f-7d7fb30b12f3"
      },
      "execution_count": 713,
      "outputs": [
        {
          "output_type": "execute_result",
          "data": {
            "text/plain": [
              "               Age   AnnualSalary    Purchased\n",
              "count  1000.000000    1000.000000  1000.000000\n",
              "mean     40.106000   72689.000000     0.402000\n",
              "std      10.707073   34488.341867     0.490547\n",
              "min      18.000000   15000.000000     0.000000\n",
              "25%      32.000000   46375.000000     0.000000\n",
              "50%      40.000000   72000.000000     0.000000\n",
              "75%      48.000000   90000.000000     1.000000\n",
              "max      63.000000  152500.000000     1.000000"
            ],
            "text/html": [
              "\n",
              "  <div id=\"df-40b65787-04a7-4211-a5ed-4780432174b5\">\n",
              "    <div class=\"colab-df-container\">\n",
              "      <div>\n",
              "<style scoped>\n",
              "    .dataframe tbody tr th:only-of-type {\n",
              "        vertical-align: middle;\n",
              "    }\n",
              "\n",
              "    .dataframe tbody tr th {\n",
              "        vertical-align: top;\n",
              "    }\n",
              "\n",
              "    .dataframe thead th {\n",
              "        text-align: right;\n",
              "    }\n",
              "</style>\n",
              "<table border=\"1\" class=\"dataframe\">\n",
              "  <thead>\n",
              "    <tr style=\"text-align: right;\">\n",
              "      <th></th>\n",
              "      <th>Age</th>\n",
              "      <th>AnnualSalary</th>\n",
              "      <th>Purchased</th>\n",
              "    </tr>\n",
              "  </thead>\n",
              "  <tbody>\n",
              "    <tr>\n",
              "      <th>count</th>\n",
              "      <td>1000.000000</td>\n",
              "      <td>1000.000000</td>\n",
              "      <td>1000.000000</td>\n",
              "    </tr>\n",
              "    <tr>\n",
              "      <th>mean</th>\n",
              "      <td>40.106000</td>\n",
              "      <td>72689.000000</td>\n",
              "      <td>0.402000</td>\n",
              "    </tr>\n",
              "    <tr>\n",
              "      <th>std</th>\n",
              "      <td>10.707073</td>\n",
              "      <td>34488.341867</td>\n",
              "      <td>0.490547</td>\n",
              "    </tr>\n",
              "    <tr>\n",
              "      <th>min</th>\n",
              "      <td>18.000000</td>\n",
              "      <td>15000.000000</td>\n",
              "      <td>0.000000</td>\n",
              "    </tr>\n",
              "    <tr>\n",
              "      <th>25%</th>\n",
              "      <td>32.000000</td>\n",
              "      <td>46375.000000</td>\n",
              "      <td>0.000000</td>\n",
              "    </tr>\n",
              "    <tr>\n",
              "      <th>50%</th>\n",
              "      <td>40.000000</td>\n",
              "      <td>72000.000000</td>\n",
              "      <td>0.000000</td>\n",
              "    </tr>\n",
              "    <tr>\n",
              "      <th>75%</th>\n",
              "      <td>48.000000</td>\n",
              "      <td>90000.000000</td>\n",
              "      <td>1.000000</td>\n",
              "    </tr>\n",
              "    <tr>\n",
              "      <th>max</th>\n",
              "      <td>63.000000</td>\n",
              "      <td>152500.000000</td>\n",
              "      <td>1.000000</td>\n",
              "    </tr>\n",
              "  </tbody>\n",
              "</table>\n",
              "</div>\n",
              "      <button class=\"colab-df-convert\" onclick=\"convertToInteractive('df-40b65787-04a7-4211-a5ed-4780432174b5')\"\n",
              "              title=\"Convert this dataframe to an interactive table.\"\n",
              "              style=\"display:none;\">\n",
              "        \n",
              "  <svg xmlns=\"http://www.w3.org/2000/svg\" height=\"24px\"viewBox=\"0 0 24 24\"\n",
              "       width=\"24px\">\n",
              "    <path d=\"M0 0h24v24H0V0z\" fill=\"none\"/>\n",
              "    <path d=\"M18.56 5.44l.94 2.06.94-2.06 2.06-.94-2.06-.94-.94-2.06-.94 2.06-2.06.94zm-11 1L8.5 8.5l.94-2.06 2.06-.94-2.06-.94L8.5 2.5l-.94 2.06-2.06.94zm10 10l.94 2.06.94-2.06 2.06-.94-2.06-.94-.94-2.06-.94 2.06-2.06.94z\"/><path d=\"M17.41 7.96l-1.37-1.37c-.4-.4-.92-.59-1.43-.59-.52 0-1.04.2-1.43.59L10.3 9.45l-7.72 7.72c-.78.78-.78 2.05 0 2.83L4 21.41c.39.39.9.59 1.41.59.51 0 1.02-.2 1.41-.59l7.78-7.78 2.81-2.81c.8-.78.8-2.07 0-2.86zM5.41 20L4 18.59l7.72-7.72 1.47 1.35L5.41 20z\"/>\n",
              "  </svg>\n",
              "      </button>\n",
              "      \n",
              "  <style>\n",
              "    .colab-df-container {\n",
              "      display:flex;\n",
              "      flex-wrap:wrap;\n",
              "      gap: 12px;\n",
              "    }\n",
              "\n",
              "    .colab-df-convert {\n",
              "      background-color: #E8F0FE;\n",
              "      border: none;\n",
              "      border-radius: 50%;\n",
              "      cursor: pointer;\n",
              "      display: none;\n",
              "      fill: #1967D2;\n",
              "      height: 32px;\n",
              "      padding: 0 0 0 0;\n",
              "      width: 32px;\n",
              "    }\n",
              "\n",
              "    .colab-df-convert:hover {\n",
              "      background-color: #E2EBFA;\n",
              "      box-shadow: 0px 1px 2px rgba(60, 64, 67, 0.3), 0px 1px 3px 1px rgba(60, 64, 67, 0.15);\n",
              "      fill: #174EA6;\n",
              "    }\n",
              "\n",
              "    [theme=dark] .colab-df-convert {\n",
              "      background-color: #3B4455;\n",
              "      fill: #D2E3FC;\n",
              "    }\n",
              "\n",
              "    [theme=dark] .colab-df-convert:hover {\n",
              "      background-color: #434B5C;\n",
              "      box-shadow: 0px 1px 3px 1px rgba(0, 0, 0, 0.15);\n",
              "      filter: drop-shadow(0px 1px 2px rgba(0, 0, 0, 0.3));\n",
              "      fill: #FFFFFF;\n",
              "    }\n",
              "  </style>\n",
              "\n",
              "      <script>\n",
              "        const buttonEl =\n",
              "          document.querySelector('#df-40b65787-04a7-4211-a5ed-4780432174b5 button.colab-df-convert');\n",
              "        buttonEl.style.display =\n",
              "          google.colab.kernel.accessAllowed ? 'block' : 'none';\n",
              "\n",
              "        async function convertToInteractive(key) {\n",
              "          const element = document.querySelector('#df-40b65787-04a7-4211-a5ed-4780432174b5');\n",
              "          const dataTable =\n",
              "            await google.colab.kernel.invokeFunction('convertToInteractive',\n",
              "                                                     [key], {});\n",
              "          if (!dataTable) return;\n",
              "\n",
              "          const docLinkHtml = 'Like what you see? Visit the ' +\n",
              "            '<a target=\"_blank\" href=https://colab.research.google.com/notebooks/data_table.ipynb>data table notebook</a>'\n",
              "            + ' to learn more about interactive tables.';\n",
              "          element.innerHTML = '';\n",
              "          dataTable['output_type'] = 'display_data';\n",
              "          await google.colab.output.renderOutput(dataTable, element);\n",
              "          const docLink = document.createElement('div');\n",
              "          docLink.innerHTML = docLinkHtml;\n",
              "          element.appendChild(docLink);\n",
              "        }\n",
              "      </script>\n",
              "    </div>\n",
              "  </div>\n",
              "  "
            ]
          },
          "metadata": {},
          "execution_count": 713
        }
      ]
    },
    {
      "cell_type": "code",
      "source": [
        "df.describe(include=['O'])"
      ],
      "metadata": {
        "colab": {
          "base_uri": "https://localhost:8080/",
          "height": 0
        },
        "id": "ttI2AxYDy5I1",
        "outputId": "52dd11b7-5a0f-48bb-c99c-e501ae9f4085"
      },
      "execution_count": 714,
      "outputs": [
        {
          "output_type": "execute_result",
          "data": {
            "text/plain": [
              "        Gender\n",
              "count     1000\n",
              "unique       2\n",
              "top     Female\n",
              "freq       516"
            ],
            "text/html": [
              "\n",
              "  <div id=\"df-b97a4eb7-9d02-4415-84ed-b36944e8dd35\">\n",
              "    <div class=\"colab-df-container\">\n",
              "      <div>\n",
              "<style scoped>\n",
              "    .dataframe tbody tr th:only-of-type {\n",
              "        vertical-align: middle;\n",
              "    }\n",
              "\n",
              "    .dataframe tbody tr th {\n",
              "        vertical-align: top;\n",
              "    }\n",
              "\n",
              "    .dataframe thead th {\n",
              "        text-align: right;\n",
              "    }\n",
              "</style>\n",
              "<table border=\"1\" class=\"dataframe\">\n",
              "  <thead>\n",
              "    <tr style=\"text-align: right;\">\n",
              "      <th></th>\n",
              "      <th>Gender</th>\n",
              "    </tr>\n",
              "  </thead>\n",
              "  <tbody>\n",
              "    <tr>\n",
              "      <th>count</th>\n",
              "      <td>1000</td>\n",
              "    </tr>\n",
              "    <tr>\n",
              "      <th>unique</th>\n",
              "      <td>2</td>\n",
              "    </tr>\n",
              "    <tr>\n",
              "      <th>top</th>\n",
              "      <td>Female</td>\n",
              "    </tr>\n",
              "    <tr>\n",
              "      <th>freq</th>\n",
              "      <td>516</td>\n",
              "    </tr>\n",
              "  </tbody>\n",
              "</table>\n",
              "</div>\n",
              "      <button class=\"colab-df-convert\" onclick=\"convertToInteractive('df-b97a4eb7-9d02-4415-84ed-b36944e8dd35')\"\n",
              "              title=\"Convert this dataframe to an interactive table.\"\n",
              "              style=\"display:none;\">\n",
              "        \n",
              "  <svg xmlns=\"http://www.w3.org/2000/svg\" height=\"24px\"viewBox=\"0 0 24 24\"\n",
              "       width=\"24px\">\n",
              "    <path d=\"M0 0h24v24H0V0z\" fill=\"none\"/>\n",
              "    <path d=\"M18.56 5.44l.94 2.06.94-2.06 2.06-.94-2.06-.94-.94-2.06-.94 2.06-2.06.94zm-11 1L8.5 8.5l.94-2.06 2.06-.94-2.06-.94L8.5 2.5l-.94 2.06-2.06.94zm10 10l.94 2.06.94-2.06 2.06-.94-2.06-.94-.94-2.06-.94 2.06-2.06.94z\"/><path d=\"M17.41 7.96l-1.37-1.37c-.4-.4-.92-.59-1.43-.59-.52 0-1.04.2-1.43.59L10.3 9.45l-7.72 7.72c-.78.78-.78 2.05 0 2.83L4 21.41c.39.39.9.59 1.41.59.51 0 1.02-.2 1.41-.59l7.78-7.78 2.81-2.81c.8-.78.8-2.07 0-2.86zM5.41 20L4 18.59l7.72-7.72 1.47 1.35L5.41 20z\"/>\n",
              "  </svg>\n",
              "      </button>\n",
              "      \n",
              "  <style>\n",
              "    .colab-df-container {\n",
              "      display:flex;\n",
              "      flex-wrap:wrap;\n",
              "      gap: 12px;\n",
              "    }\n",
              "\n",
              "    .colab-df-convert {\n",
              "      background-color: #E8F0FE;\n",
              "      border: none;\n",
              "      border-radius: 50%;\n",
              "      cursor: pointer;\n",
              "      display: none;\n",
              "      fill: #1967D2;\n",
              "      height: 32px;\n",
              "      padding: 0 0 0 0;\n",
              "      width: 32px;\n",
              "    }\n",
              "\n",
              "    .colab-df-convert:hover {\n",
              "      background-color: #E2EBFA;\n",
              "      box-shadow: 0px 1px 2px rgba(60, 64, 67, 0.3), 0px 1px 3px 1px rgba(60, 64, 67, 0.15);\n",
              "      fill: #174EA6;\n",
              "    }\n",
              "\n",
              "    [theme=dark] .colab-df-convert {\n",
              "      background-color: #3B4455;\n",
              "      fill: #D2E3FC;\n",
              "    }\n",
              "\n",
              "    [theme=dark] .colab-df-convert:hover {\n",
              "      background-color: #434B5C;\n",
              "      box-shadow: 0px 1px 3px 1px rgba(0, 0, 0, 0.15);\n",
              "      filter: drop-shadow(0px 1px 2px rgba(0, 0, 0, 0.3));\n",
              "      fill: #FFFFFF;\n",
              "    }\n",
              "  </style>\n",
              "\n",
              "      <script>\n",
              "        const buttonEl =\n",
              "          document.querySelector('#df-b97a4eb7-9d02-4415-84ed-b36944e8dd35 button.colab-df-convert');\n",
              "        buttonEl.style.display =\n",
              "          google.colab.kernel.accessAllowed ? 'block' : 'none';\n",
              "\n",
              "        async function convertToInteractive(key) {\n",
              "          const element = document.querySelector('#df-b97a4eb7-9d02-4415-84ed-b36944e8dd35');\n",
              "          const dataTable =\n",
              "            await google.colab.kernel.invokeFunction('convertToInteractive',\n",
              "                                                     [key], {});\n",
              "          if (!dataTable) return;\n",
              "\n",
              "          const docLinkHtml = 'Like what you see? Visit the ' +\n",
              "            '<a target=\"_blank\" href=https://colab.research.google.com/notebooks/data_table.ipynb>data table notebook</a>'\n",
              "            + ' to learn more about interactive tables.';\n",
              "          element.innerHTML = '';\n",
              "          dataTable['output_type'] = 'display_data';\n",
              "          await google.colab.output.renderOutput(dataTable, element);\n",
              "          const docLink = document.createElement('div');\n",
              "          docLink.innerHTML = docLinkHtml;\n",
              "          element.appendChild(docLink);\n",
              "        }\n",
              "      </script>\n",
              "    </div>\n",
              "  </div>\n",
              "  "
            ]
          },
          "metadata": {},
          "execution_count": 714
        }
      ]
    },
    {
      "cell_type": "markdown",
      "source": [
        "We can assign gender into a numerical value to get rid of all catagorical columns\n"
      ],
      "metadata": {
        "id": "oAGDdylPcM9L"
      }
    },
    {
      "cell_type": "code",
      "source": [
        "df.Gender = df.Gender.map({ 'Male': 0, 'Female': 1 })"
      ],
      "metadata": {
        "id": "A24sHxQccSLi"
      },
      "execution_count": 715,
      "outputs": []
    },
    {
      "cell_type": "markdown",
      "source": [],
      "metadata": {
        "id": "dWfM8Sk9cR9V"
      }
    },
    {
      "cell_type": "code",
      "source": [
        "df.Purchased.value_counts(normalize=True)"
      ],
      "metadata": {
        "colab": {
          "base_uri": "https://localhost:8080/"
        },
        "id": "4TnLSnxwy5N6",
        "outputId": "5c2c6a89-9d0f-46c2-85c3-ba76e6d5c28a"
      },
      "execution_count": 716,
      "outputs": [
        {
          "output_type": "execute_result",
          "data": {
            "text/plain": [
              "0    0.598\n",
              "1    0.402\n",
              "Name: Purchased, dtype: float64"
            ]
          },
          "metadata": {},
          "execution_count": 716
        }
      ]
    },
    {
      "cell_type": "markdown",
      "source": [
        "Data is Relativly Balanced with a 60:40 spread"
      ],
      "metadata": {
        "id": "K65ALD1Tzita"
      }
    },
    {
      "cell_type": "code",
      "source": [
        "sns.pairplot(df, hue='Purchased')"
      ],
      "metadata": {
        "colab": {
          "base_uri": "https://localhost:8080/",
          "height": 0
        },
        "id": "l9Ngo-Cjy5Uf",
        "outputId": "608a6365-8e53-4937-ef12-686b040ab621"
      },
      "execution_count": 717,
      "outputs": [
        {
          "output_type": "execute_result",
          "data": {
            "text/plain": [
              "<seaborn.axisgrid.PairGrid at 0x7fd0abb8d950>"
            ]
          },
          "metadata": {},
          "execution_count": 717
        },
        {
          "output_type": "display_data",
          "data": {
            "text/plain": [
              "<Figure size 599.875x540 with 12 Axes>"
            ],
            "image/png": "[encoded data removed]"
          },
          "metadata": {
            "needs_background": "light"
          }
        }
      ]
    },
    {
      "cell_type": "markdown",
      "source": [
        "From an initial view of the graph, we can get that there are about equal numbres of men and women who haven't purchased a car, but slightly more women have purchased the car than men, this is probably due to the 16 more females than males in the dataset.\n",
        "\n",
        "There is a good spread of both women and men in the age groups and salary\n",
        "\n",
        "it seems most people who have purchased cars are more likly to be older, no matter what annual \n",
        "salary they have"
      ],
      "metadata": {
        "id": "uXg2HJCXKVnL"
      }
    },
    {
      "cell_type": "code",
      "source": [
        "df.corr()['Purchased'].sort_values(ascending=False)"
      ],
      "metadata": {
        "colab": {
          "base_uri": "https://localhost:8080/"
        },
        "id": "4FsEIDGOTl_0",
        "outputId": "55876dfa-9fa2-494e-d727-f23bee4edfec"
      },
      "execution_count": 718,
      "outputs": [
        {
          "output_type": "execute_result",
          "data": {
            "text/plain": [
              "Purchased       1.000000\n",
              "Age             0.616036\n",
              "AnnualSalary    0.364974\n",
              "Gender          0.047211\n",
              "Name: Purchased, dtype: float64"
            ]
          },
          "metadata": {},
          "execution_count": 718
        }
      ]
    },
    {
      "cell_type": "markdown",
      "source": [
        "# TASK 3\n",
        "\n",
        "I will be using Batch and SGD gradient descents for my model"
      ],
      "metadata": {
        "id": "eNXjSAWZZImS"
      }
    },
    {
      "cell_type": "markdown",
      "source": [
        "##Setting up variables and functions\n"
      ],
      "metadata": {
        "id": "uEf6roxsX1-j"
      }
    },
    {
      "cell_type": "code",
      "source": [
        "def sigmoid(A):\n",
        "  return   1 / (1 + np.exp(-A))"
      ],
      "metadata": {
        "id": "L4HFcEfdimXk"
      },
      "execution_count": 719,
      "outputs": []
    },
    {
      "cell_type": "code",
      "source": [
        "def cost_func(A,Y):\n",
        "  m = A.shape[0]\n",
        "  loss = (-1/m) * np.sum( (Y * np.log(A)) + ( (1-Y) * (np.log(1-A)) )  )\n",
        "  return loss"
      ],
      "metadata": {
        "id": "B7VR4JWyZIXJ"
      },
      "execution_count": 720,
      "outputs": []
    },
    {
      "cell_type": "code",
      "source": [
        "def dw(A,Y,X):\n",
        "  n = A.shape[0]\n",
        "  np.dot(X, (A-Y).T)/n"
      ],
      "metadata": {
        "id": "Utnb313GpltI"
      },
      "execution_count": 721,
      "outputs": []
    },
    {
      "cell_type": "code",
      "source": [
        "def db(A,Y):\n",
        "  n = A.shape[0]\n",
        "  db= np.sum(A-Y)/n"
      ],
      "metadata": {
        "id": "I2xF5onbpliF"
      },
      "execution_count": 722,
      "outputs": []
    },
    {
      "cell_type": "code",
      "source": [
        "#independant variables\n",
        "X = df.drop(\"Purchased\", axis=1)\n",
        "#target\n",
        "Y = df.Purchased.values.reshape(df.shape[0],1)\n",
        "\n",
        "sx = MinMaxScaler()\n",
        "X = sx.fit_transform(X)"
      ],
      "metadata": {
        "id": "hG6YCK1pMQyn"
      },
      "execution_count": 723,
      "outputs": []
    },
    {
      "cell_type": "markdown",
      "source": [
        "##Gradient Descent (Batch)"
      ],
      "metadata": {
        "id": "4RFjp17C6oMU"
      }
    },
    {
      "cell_type": "code",
      "source": [
        "#initial weights\n",
        "w =np.random.rand(1,3)\n",
        "print(w)\n",
        "\n",
        "#initial bias\n",
        "b = np.random.rand(1,1)\n",
        "print(b)\n",
        "\n",
        "#learning value\n",
        "alpha = .6"
      ],
      "metadata": {
        "colab": {
          "base_uri": "https://localhost:8080/"
        },
        "id": "z5tAVrVyJKuW",
        "outputId": "6398e220-c037-4765-cf82-5e32456934c6"
      },
      "execution_count": 724,
      "outputs": [
        {
          "output_type": "stream",
          "name": "stdout",
          "text": [
            "[[0.5976505  0.28427132 0.26460941]]\n",
            "[[0.38321963]]\n"
          ]
        }
      ]
    },
    {
      "cell_type": "code",
      "source": [
        "epochs = 200\n",
        "for i in range(epochs):\n",
        "    y_hat =  np.dot(X,w.T)+ b\n",
        "    A = sigmoid( y_hat ) # = sigmoid of predicted value\n",
        "\n",
        "    loss =  (-1/1000)* np.sum( (Y * np.log(A)) + ( (1-Y) * (np.log(1-A)) )  )\n",
        "    dw = np.dot((A-Y).T,X )/1000\n",
        "    db= np.sum(A-Y)/1000\n",
        "\n",
        "    w = w - alpha * dw\n",
        "    b = b - alpha * db"
      ],
      "metadata": {
        "id": "wsjw1y8CKHYN"
      },
      "execution_count": 725,
      "outputs": []
    },
    {
      "cell_type": "markdown",
      "source": [
        "Accuracy"
      ],
      "metadata": {
        "id": "5qoGF34I6t3L"
      }
    },
    {
      "cell_type": "code",
      "source": [
        "predicted_right = 0\n",
        "for i in range(1000):\n",
        "  sigma = sigmoid(np.dot(X[i],w.T)+ b)\n",
        "  predict = 0 if sigma < .5 else 1\n",
        "\n",
        "  if predict == Y[i]:\n",
        "    predicted_right+=1\n",
        "\n",
        "predicted_right/1000"
      ],
      "metadata": {
        "colab": {
          "base_uri": "https://localhost:8080/"
        },
        "id": "PcluIphh6tXe",
        "outputId": "a22c57a9-60bb-4490-d991-226c60829bce"
      },
      "execution_count": 726,
      "outputs": [
        {
          "output_type": "execute_result",
          "data": {
            "text/plain": [
              "0.817"
            ]
          },
          "metadata": {},
          "execution_count": 726
        }
      ]
    },
    {
      "cell_type": "markdown",
      "source": [
        "##SGD algortihm\n"
      ],
      "metadata": {
        "id": "Eu7QKudO_5KL"
      }
    },
    {
      "cell_type": "code",
      "source": [
        "#initial weights\n",
        "w =np.random.rand(1,3)\n",
        "print(w)\n",
        "\n",
        "#initial bias\n",
        "b = np.random.rand(1,1)\n",
        "print(b)\n",
        "\n",
        "#learning value\n",
        "alpha = .6"
      ],
      "metadata": {
        "colab": {
          "base_uri": "https://localhost:8080/"
        },
        "id": "ggzmjOh8CvXu",
        "outputId": "5e99eea8-7589-40ce-b451-89ea74cd39d1"
      },
      "execution_count": 727,
      "outputs": [
        {
          "output_type": "stream",
          "name": "stdout",
          "text": [
            "[[0.90438135 0.82900565 0.15895099]]\n",
            "[[0.19621903]]\n"
          ]
        }
      ]
    },
    {
      "cell_type": "code",
      "source": [
        "import random\n",
        "epochs = 200\n",
        "\n",
        "for i in range(epochs):\n",
        "    df.sample(frac = 1)\n",
        "    #independant variables\n",
        "    X = df.drop(\"Purchased\", axis=1)\n",
        "    #target\n",
        "    Y = df.Purchased.values.reshape(df.shape[0],1)\n",
        "\n",
        "    sx = MinMaxScaler()\n",
        "    X = sx.fit_transform(X)\n",
        "    for j in range(1000):\n",
        "      \n",
        "      sample_x = X[j]\n",
        "      sample_y = Y[j]\n",
        "\n",
        "      y_hat =  np.dot(sample_x,w.T)+ b\n",
        "      A = sigmoid(  y_hat ) # = sigmoid of predicted value\n",
        "\n",
        "      loss =  -1 * np.sum( (sample_y * np.log(A)) + ( (1-sample_y) * (np.log(1-A)) )  )\n",
        "      \n",
        "      sample_x = np.reshape(sample_x,[1,3])\n",
        "      dw = np.dot((A-sample_y).T,sample_x )\n",
        "      db= np.sum(A-sample_y)\n",
        "\n",
        "      w = w - alpha * dw\n",
        "      b = b - alpha * db\n"
      ],
      "metadata": {
        "id": "mc6BLz1Y6slC"
      },
      "execution_count": 728,
      "outputs": []
    },
    {
      "cell_type": "markdown",
      "source": [
        "Accuracy"
      ],
      "metadata": {
        "id": "pTMtoQzaX6ux"
      }
    },
    {
      "cell_type": "code",
      "source": [
        "predicted_right = 0\n",
        "for i in range(1000):\n",
        "  sigma = sigmoid(np.dot(X[i],w.T)+ b)\n",
        "  predict = 0 if sigma < .5 else 1\n",
        "\n",
        "  if predict == Y[i]:\n",
        "    predicted_right+=1\n",
        "\n",
        "predicted_right/1000"
      ],
      "metadata": {
        "colab": {
          "base_uri": "https://localhost:8080/"
        },
        "id": "OyIolIxX_g_P",
        "outputId": "24294495-170b-4a81-9141-e405e45cb40f"
      },
      "execution_count": 729,
      "outputs": [
        {
          "output_type": "execute_result",
          "data": {
            "text/plain": [
              "0.807"
            ]
          },
          "metadata": {},
          "execution_count": 729
        }
      ]
    },
    {
      "cell_type": "markdown",
      "source": [
        "#TASK 4\n",
        "\n",
        "I will be optmizing it using the momentum and Nesterov accelerated gradient\n"
      ],
      "metadata": {
        "id": "6brnvTI4mGI5"
      }
    },
    {
      "cell_type": "code",
      "source": [
        "#initial weights\n",
        "w =np.random.rand(1,3)\n",
        "print(w)\n",
        "\n",
        "#initial bias\n",
        "b = np.random.rand(1,1)\n",
        "print(b)\n",
        "\n",
        "#learning value\n",
        "alpha = .6"
      ],
      "metadata": {
        "colab": {
          "base_uri": "https://localhost:8080/"
        },
        "id": "OlxbdmXmCwi4",
        "outputId": "800b33b4-58b5-49af-df1a-d68c3089152c"
      },
      "execution_count": 730,
      "outputs": [
        {
          "output_type": "stream",
          "name": "stdout",
          "text": [
            "[[0.70900375 0.228096   0.97553671]]\n",
            "[[0.84062247]]\n"
          ]
        }
      ]
    },
    {
      "cell_type": "markdown",
      "source": [
        "##Momentum "
      ],
      "metadata": {
        "id": "obwnvWR4C3Ha"
      }
    },
    {
      "cell_type": "code",
      "source": [
        "import random\n",
        "epochs = 200\n",
        "momentum_val = .9\n",
        "prev_dw = 0.0\n",
        "prev_db = 0.0\n",
        "for i in range(epochs):\n",
        "    df.sample(frac = 1)\n",
        "    #independant variables\n",
        "    X = df.drop(\"Purchased\", axis=1)\n",
        "    #target\n",
        "    Y = df.Purchased.values.reshape(df.shape[0],1)\n",
        "\n",
        "    sx = MinMaxScaler()\n",
        "    X = sx.fit_transform(X)\n",
        "\n",
        "    for j in range(1000):\n",
        "      choice = random.randint(0,999)\n",
        "      sample_x = X[choice]\n",
        "      sample_y = Y[choice]\n",
        "\n",
        "      y_hat =  np.dot(sample_x,w.T)+ b\n",
        "      A = sigmoid(  y_hat ) # = sigmoid of predicted value\n",
        "\n",
        "      loss =  -1 * np.sum( (sample_y * np.log(A)) + ( (1-sample_y) * (np.log(1-A)) )  )\n",
        "      \n",
        "      sample_x = np.reshape(sample_x,[1,3])\n",
        "      dw = np.dot((A-sample_y).T,sample_x )\n",
        "      db= np.sum(A-sample_y)\n",
        "\n",
        "      w = w - ( (alpha * dw) + (momentum_val * prev_dw) )\n",
        "      b = b - ( (alpha * db) + (momentum_val * prev_db) )\n",
        "\n",
        "      prev_dw = dw\n",
        "      prev_db = db\n"
      ],
      "metadata": {
        "id": "V1Fz1KPAB3z3"
      },
      "execution_count": 731,
      "outputs": []
    },
    {
      "cell_type": "markdown",
      "source": [
        "Accuracy"
      ],
      "metadata": {
        "id": "mqo9YQnNC7Tc"
      }
    },
    {
      "cell_type": "code",
      "source": [
        "predicted_right = 0\n",
        "for i in range(1000):\n",
        "  sigma = sigmoid(np.dot(X[i],w.T)+ b)\n",
        "  predict = 0 if sigma < .5 else 1\n",
        "\n",
        "  if predict == Y[i]:\n",
        "    predicted_right+=1\n",
        "\n",
        "predicted_right/1000"
      ],
      "metadata": {
        "colab": {
          "base_uri": "https://localhost:8080/"
        },
        "id": "wjJc7l0UC1og",
        "outputId": "de874849-b4ef-433a-f54f-1d31fb41a835"
      },
      "execution_count": 732,
      "outputs": [
        {
          "output_type": "execute_result",
          "data": {
            "text/plain": [
              "0.769"
            ]
          },
          "metadata": {},
          "execution_count": 732
        }
      ]
    },
    {
      "cell_type": "markdown",
      "source": [
        "#Nesterov accelerated gradient\n"
      ],
      "metadata": {
        "id": "k_B36fxoIWM1"
      }
    },
    {
      "cell_type": "code",
      "source": [
        "import random\n",
        "epochs = 200\n",
        "momentum_val = .9\n",
        "prev_dw = 0.0\n",
        "prev_db = 0.0\n",
        "for i in range(epochs):\n",
        "    df.sample(frac = 1)\n",
        "    #independant variables\n",
        "    X = df.drop(\"Purchased\", axis=1)\n",
        "    #target\n",
        "    Y = df.Purchased.values.reshape(df.shape[0],1)\n",
        "\n",
        "    sx = MinMaxScaler()\n",
        "    X = sx.fit_transform(X)\n",
        "\n",
        "    for j in range(1000):\n",
        "      choice = random.randint(0,999)\n",
        "      sample_x = X[choice]\n",
        "      sample_y = Y[choice]\n",
        "\n",
        "      y_hat =  np.dot(sample_x,w.T)+ b\n",
        "      A = sigmoid(  y_hat ) # = sigmoid of predicted value\n",
        "\n",
        "      loss =  -1 * np.sum( (sample_y * np.log(A)) + ( (1-sample_y) * (np.log(1-A)) )  )\n",
        "      \n",
        "      sample_x = np.reshape(sample_x,[1,3])\n",
        "      dw = np.dot((A-sample_y).T,sample_x )\n",
        "      db= np.sum(A-sample_y)\n",
        "\n",
        "      dw_momentum = momentum_val * prev_dw\n",
        "      db_momentum = momentum_val * prev_db\n",
        "\n",
        "      w = w -  ((alpha * (dw-dw_momentum)) + dw_momentum)\n",
        "      b = b -  ((alpha * (db-db_momentum)) + db_momentum)\n",
        "\n",
        "      prev_dw = dw\n",
        "      prev_db = db\n"
      ],
      "metadata": {
        "id": "YdpYExz4IWfh"
      },
      "execution_count": 733,
      "outputs": []
    },
    {
      "cell_type": "markdown",
      "source": [
        "Accuracy"
      ],
      "metadata": {
        "id": "30TxQLbCXWBB"
      }
    },
    {
      "cell_type": "code",
      "source": [
        "predicted_right = 0\n",
        "for i in range(1000):\n",
        "  sigma = sigmoid(np.dot(X[i],w.T)+ b)\n",
        "  predict = 0 if sigma < .5 else 1\n",
        "\n",
        "  if predict == Y[i]:\n",
        "    predicted_right+=1\n",
        "\n",
        "predicted_right/1000"
      ],
      "metadata": {
        "colab": {
          "base_uri": "https://localhost:8080/"
        },
        "id": "Nmeqkv5FIWtt",
        "outputId": "ba26ac15-89b2-4428-a6cb-a27221a9b8e7"
      },
      "execution_count": 734,
      "outputs": [
        {
          "output_type": "execute_result",
          "data": {
            "text/plain": [
              "0.82"
            ]
          },
          "metadata": {},
          "execution_count": 734
        }
      ]
    },
    {
      "cell_type": "markdown",
      "source": [
        "#Discussion\n",
        "\n",
        "The optimization of the SGD algorithim with momentum actually decreased the accuracy compared to regular SGD, which is relativly surprising considering this is used to dampen the effect of going overboard. this could be due to my relativly low learning rate of .6. \n",
        "\n",
        "On the other hand,  Nesterov accelerated gradient slightly increased our accuracy compared the the regular SGD.\n",
        "\n",
        "We should definitly used optimization algorithims to help train our data quicker and more accuratly, but careful consideration should be done before choosing what optimization you would want your model to have, since as we see above, some optimizations can actually decrease performance\n"
      ],
      "metadata": {
        "id": "K5dQ_iN3I7aL"
      }
    }
  ]
}
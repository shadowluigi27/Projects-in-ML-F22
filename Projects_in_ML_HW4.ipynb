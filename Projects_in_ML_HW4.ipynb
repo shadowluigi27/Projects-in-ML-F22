{
  "nbformat": 4,
  "nbformat_minor": 0,
  "metadata": {
    "colab": {
      "provenance": [],
      "authorship_tag": "ABX9TyPMSyk1XfrC0VwKVFOAfdqY",
      "include_colab_link": true
    },
    "kernelspec": {
      "name": "python3",
      "display_name": "Python 3"
    },
    "language_info": {
      "name": "python"
    }
  },
  "cells": [
    {
      "cell_type": "markdown",
      "metadata": {
        "id": "view-in-github",
        "colab_type": "text"
      },
      "source": [
        "<a href=\"https://colab.research.google.com/github/shadowluigi27/Projects-in-ML-F22/blob/main/Projects_in_ML_HW4.ipynb\" target=\"_parent\"><img src=\"https://colab.research.google.com/assets/colab-badge.svg\" alt=\"Open In Colab\"/></a>"
      ]
    },
    {
      "cell_type": "markdown",
      "source": [
        "# Task 1\n",
        "\n",
        "I Will be using the tensorflow framework for the RNNs for this assignment\n",
        "\n",
        "https://www.tensorflow.org/guide/keras/rnn\n",
        "\n",
        "https://www.tensorflow.org/api_docs/python/tf/keras/Sequential "
      ],
      "metadata": {
        "id": "PyEUMxcOtyX3"
      }
    },
    {
      "cell_type": "markdown",
      "source": [
        "This is the source of the Data\n",
        "https://www.kaggle.com/datasets/vijayvvenkitesh/microsoft-stock-time-series-analysis \n",
        "\n",
        "The reason why we need to use sequence models is because the trend of past stock prices in this case can influence how the stock might behave in the future "
      ],
      "metadata": {
        "id": "Vn4A6aIwyg7N"
      }
    },
    {
      "cell_type": "code",
      "execution_count": 320,
      "metadata": {
        "id": "p_OLCqLIxS8a"
      },
      "outputs": [],
      "source": [
        "# import required libraries\n",
        "import pandas as pd\n",
        "import matplotlib.pyplot as plt\n",
        "import seaborn as sns\n",
        "import numpy as np\n",
        "import math\n",
        "\n",
        "from sklearn.preprocessing import MinMaxScaler\n",
        "from tensorflow.keras.models import Sequential\n",
        "from tensorflow.keras.layers import Dense, Dropout,SimpleRNN,GRU, LSTM, RepeatVector, TimeDistributed\n",
        "from tensorflow.keras.callbacks import EarlyStopping, ReduceLROnPlateau\n",
        "\n"
      ]
    },
    {
      "cell_type": "markdown",
      "source": [
        "# EDA"
      ],
      "metadata": {
        "id": "g7ij64bT1Ivz"
      }
    },
    {
      "cell_type": "code",
      "source": [
        "df = pd.read_csv('Microsoft_Stock.csv')\n",
        "df.head()"
      ],
      "metadata": {
        "colab": {
          "base_uri": "https://localhost:8080/",
          "height": 206
        },
        "id": "kbozKN3jxVfv",
        "outputId": "e24aaad9-2c85-4d86-c764-169b6c63579c"
      },
      "execution_count": 321,
      "outputs": [
        {
          "output_type": "execute_result",
          "data": {
            "text/plain": [
              "                Date   Open   High    Low  Close    Volume\n",
              "0  4/1/2015 16:00:00  40.60  40.76  40.31  40.72  36865322\n",
              "1  4/2/2015 16:00:00  40.66  40.74  40.12  40.29  37487476\n",
              "2  4/6/2015 16:00:00  40.34  41.78  40.18  41.55  39223692\n",
              "3  4/7/2015 16:00:00  41.61  41.91  41.31  41.53  28809375\n",
              "4  4/8/2015 16:00:00  41.48  41.69  41.04  41.42  24753438"
            ],
            "text/html": [
              "\n",
              "  <div id=\"df-54f514bb-d09a-4acc-b339-075db9d29147\">\n",
              "    <div class=\"colab-df-container\">\n",
              "      <div>\n",
              "<style scoped>\n",
              "    .dataframe tbody tr th:only-of-type {\n",
              "        vertical-align: middle;\n",
              "    }\n",
              "\n",
              "    .dataframe tbody tr th {\n",
              "        vertical-align: top;\n",
              "    }\n",
              "\n",
              "    .dataframe thead th {\n",
              "        text-align: right;\n",
              "    }\n",
              "</style>\n",
              "<table border=\"1\" class=\"dataframe\">\n",
              "  <thead>\n",
              "    <tr style=\"text-align: right;\">\n",
              "      <th></th>\n",
              "      <th>Date</th>\n",
              "      <th>Open</th>\n",
              "      <th>High</th>\n",
              "      <th>Low</th>\n",
              "      <th>Close</th>\n",
              "      <th>Volume</th>\n",
              "    </tr>\n",
              "  </thead>\n",
              "  <tbody>\n",
              "    <tr>\n",
              "      <th>0</th>\n",
              "      <td>4/1/2015 16:00:00</td>\n",
              "      <td>40.60</td>\n",
              "      <td>40.76</td>\n",
              "      <td>40.31</td>\n",
              "      <td>40.72</td>\n",
              "      <td>36865322</td>\n",
              "    </tr>\n",
              "    <tr>\n",
              "      <th>1</th>\n",
              "      <td>4/2/2015 16:00:00</td>\n",
              "      <td>40.66</td>\n",
              "      <td>40.74</td>\n",
              "      <td>40.12</td>\n",
              "      <td>40.29</td>\n",
              "      <td>37487476</td>\n",
              "    </tr>\n",
              "    <tr>\n",
              "      <th>2</th>\n",
              "      <td>4/6/2015 16:00:00</td>\n",
              "      <td>40.34</td>\n",
              "      <td>41.78</td>\n",
              "      <td>40.18</td>\n",
              "      <td>41.55</td>\n",
              "      <td>39223692</td>\n",
              "    </tr>\n",
              "    <tr>\n",
              "      <th>3</th>\n",
              "      <td>4/7/2015 16:00:00</td>\n",
              "      <td>41.61</td>\n",
              "      <td>41.91</td>\n",
              "      <td>41.31</td>\n",
              "      <td>41.53</td>\n",
              "      <td>28809375</td>\n",
              "    </tr>\n",
              "    <tr>\n",
              "      <th>4</th>\n",
              "      <td>4/8/2015 16:00:00</td>\n",
              "      <td>41.48</td>\n",
              "      <td>41.69</td>\n",
              "      <td>41.04</td>\n",
              "      <td>41.42</td>\n",
              "      <td>24753438</td>\n",
              "    </tr>\n",
              "  </tbody>\n",
              "</table>\n",
              "</div>\n",
              "      <button class=\"colab-df-convert\" onclick=\"convertToInteractive('df-54f514bb-d09a-4acc-b339-075db9d29147')\"\n",
              "              title=\"Convert this dataframe to an interactive table.\"\n",
              "              style=\"display:none;\">\n",
              "        \n",
              "  <svg xmlns=\"http://www.w3.org/2000/svg\" height=\"24px\"viewBox=\"0 0 24 24\"\n",
              "       width=\"24px\">\n",
              "    <path d=\"M0 0h24v24H0V0z\" fill=\"none\"/>\n",
              "    <path d=\"M18.56 5.44l.94 2.06.94-2.06 2.06-.94-2.06-.94-.94-2.06-.94 2.06-2.06.94zm-11 1L8.5 8.5l.94-2.06 2.06-.94-2.06-.94L8.5 2.5l-.94 2.06-2.06.94zm10 10l.94 2.06.94-2.06 2.06-.94-2.06-.94-.94-2.06-.94 2.06-2.06.94z\"/><path d=\"M17.41 7.96l-1.37-1.37c-.4-.4-.92-.59-1.43-.59-.52 0-1.04.2-1.43.59L10.3 9.45l-7.72 7.72c-.78.78-.78 2.05 0 2.83L4 21.41c.39.39.9.59 1.41.59.51 0 1.02-.2 1.41-.59l7.78-7.78 2.81-2.81c.8-.78.8-2.07 0-2.86zM5.41 20L4 18.59l7.72-7.72 1.47 1.35L5.41 20z\"/>\n",
              "  </svg>\n",
              "      </button>\n",
              "      \n",
              "  <style>\n",
              "    .colab-df-container {\n",
              "      display:flex;\n",
              "      flex-wrap:wrap;\n",
              "      gap: 12px;\n",
              "    }\n",
              "\n",
              "    .colab-df-convert {\n",
              "      background-color: #E8F0FE;\n",
              "      border: none;\n",
              "      border-radius: 50%;\n",
              "      cursor: pointer;\n",
              "      display: none;\n",
              "      fill: #1967D2;\n",
              "      height: 32px;\n",
              "      padding: 0 0 0 0;\n",
              "      width: 32px;\n",
              "    }\n",
              "\n",
              "    .colab-df-convert:hover {\n",
              "      background-color: #E2EBFA;\n",
              "      box-shadow: 0px 1px 2px rgba(60, 64, 67, 0.3), 0px 1px 3px 1px rgba(60, 64, 67, 0.15);\n",
              "      fill: #174EA6;\n",
              "    }\n",
              "\n",
              "    [theme=dark] .colab-df-convert {\n",
              "      background-color: #3B4455;\n",
              "      fill: #D2E3FC;\n",
              "    }\n",
              "\n",
              "    [theme=dark] .colab-df-convert:hover {\n",
              "      background-color: #434B5C;\n",
              "      box-shadow: 0px 1px 3px 1px rgba(0, 0, 0, 0.15);\n",
              "      filter: drop-shadow(0px 1px 2px rgba(0, 0, 0, 0.3));\n",
              "      fill: #FFFFFF;\n",
              "    }\n",
              "  </style>\n",
              "\n",
              "      <script>\n",
              "        const buttonEl =\n",
              "          document.querySelector('#df-54f514bb-d09a-4acc-b339-075db9d29147 button.colab-df-convert');\n",
              "        buttonEl.style.display =\n",
              "          google.colab.kernel.accessAllowed ? 'block' : 'none';\n",
              "\n",
              "        async function convertToInteractive(key) {\n",
              "          const element = document.querySelector('#df-54f514bb-d09a-4acc-b339-075db9d29147');\n",
              "          const dataTable =\n",
              "            await google.colab.kernel.invokeFunction('convertToInteractive',\n",
              "                                                     [key], {});\n",
              "          if (!dataTable) return;\n",
              "\n",
              "          const docLinkHtml = 'Like what you see? Visit the ' +\n",
              "            '<a target=\"_blank\" href=https://colab.research.google.com/notebooks/data_table.ipynb>data table notebook</a>'\n",
              "            + ' to learn more about interactive tables.';\n",
              "          element.innerHTML = '';\n",
              "          dataTable['output_type'] = 'display_data';\n",
              "          await google.colab.output.renderOutput(dataTable, element);\n",
              "          const docLink = document.createElement('div');\n",
              "          docLink.innerHTML = docLinkHtml;\n",
              "          element.appendChild(docLink);\n",
              "        }\n",
              "      </script>\n",
              "    </div>\n",
              "  </div>\n",
              "  "
            ]
          },
          "metadata": {},
          "execution_count": 321
        }
      ]
    },
    {
      "cell_type": "code",
      "source": [
        "df.shape"
      ],
      "metadata": {
        "colab": {
          "base_uri": "https://localhost:8080/"
        },
        "id": "y8L4eHYlPl79",
        "outputId": "f46a632b-f720-44aa-93b8-cc8d1b863722"
      },
      "execution_count": 322,
      "outputs": [
        {
          "output_type": "execute_result",
          "data": {
            "text/plain": [
              "(1511, 6)"
            ]
          },
          "metadata": {},
          "execution_count": 322
        }
      ]
    },
    {
      "cell_type": "code",
      "source": [
        "df.dtypes"
      ],
      "metadata": {
        "colab": {
          "base_uri": "https://localhost:8080/"
        },
        "id": "6CyzrR1vTd75",
        "outputId": "b865c949-32e6-4845-a6dd-bbf6f29f0f7a"
      },
      "execution_count": 323,
      "outputs": [
        {
          "output_type": "execute_result",
          "data": {
            "text/plain": [
              "Date       object\n",
              "Open      float64\n",
              "High      float64\n",
              "Low       float64\n",
              "Close     float64\n",
              "Volume      int64\n",
              "dtype: object"
            ]
          },
          "metadata": {},
          "execution_count": 323
        }
      ]
    },
    {
      "cell_type": "code",
      "source": [
        "df.isna().sum()"
      ],
      "metadata": {
        "colab": {
          "base_uri": "https://localhost:8080/"
        },
        "id": "P92b3o6tPowV",
        "outputId": "8bd11e52-db7f-4787-e11e-00d2cfb1bd5f"
      },
      "execution_count": 324,
      "outputs": [
        {
          "output_type": "execute_result",
          "data": {
            "text/plain": [
              "Date      0\n",
              "Open      0\n",
              "High      0\n",
              "Low       0\n",
              "Close     0\n",
              "Volume    0\n",
              "dtype: int64"
            ]
          },
          "metadata": {},
          "execution_count": 324
        }
      ]
    },
    {
      "cell_type": "markdown",
      "source": [
        "no null values, we don't need to remove any rows data"
      ],
      "metadata": {
        "id": "okEU4vLWx3Je"
      }
    },
    {
      "cell_type": "code",
      "source": [
        "#convert date into timestep data\n",
        "df.Date = pd.to_datetime(df.Date, yearfirst = True)\n",
        "df.dtypes"
      ],
      "metadata": {
        "colab": {
          "base_uri": "https://localhost:8080/"
        },
        "id": "N9WweUFT1KQ8",
        "outputId": "9c46ced6-701c-4f66-f777-c17f57222409"
      },
      "execution_count": 325,
      "outputs": [
        {
          "output_type": "execute_result",
          "data": {
            "text/plain": [
              "Date      datetime64[ns]\n",
              "Open             float64\n",
              "High             float64\n",
              "Low              float64\n",
              "Close            float64\n",
              "Volume             int64\n",
              "dtype: object"
            ]
          },
          "metadata": {},
          "execution_count": 325
        }
      ]
    },
    {
      "cell_type": "code",
      "source": [
        "#Show general trend of Microsoft\n",
        "\n",
        "plt.figure(figsize=(16,8))\n",
        "plt.plot(df['Close'], label='Close Price history',color='black')\n",
        "plt.xlabel('Date',size=20)\n",
        "plt.ylabel('Stock Price',size=20)"
      ],
      "metadata": {
        "colab": {
          "base_uri": "https://localhost:8080/",
          "height": 523
        },
        "id": "Xxiy100B2aIz",
        "outputId": "c1dac698-001e-4db1-eea7-3ad1762e3de9"
      },
      "execution_count": 326,
      "outputs": [
        {
          "output_type": "execute_result",
          "data": {
            "text/plain": [
              "Text(0, 0.5, 'Stock Price')"
            ]
          },
          "metadata": {},
          "execution_count": 326
        },
        {
          "output_type": "display_data",
          "data": {
            "text/plain": [
              "<Figure size 1152x576 with 1 Axes>"
            ],
            "image/png": "[encoded data removed]"
          },
          "metadata": {
            "needs_background": "light"
          }
        }
      ]
    },
    {
      "cell_type": "code",
      "source": [
        "#sns.pairplot(df)"
      ],
      "metadata": {
        "id": "bFgzJiNc8s5W"
      },
      "execution_count": 327,
      "outputs": []
    },
    {
      "cell_type": "markdown",
      "source": [
        "We can see that the most of the data points here are strongly correleated with each other, the only outlier being the Volume Variable"
      ],
      "metadata": {
        "id": "6e4Ov3Io88Mt"
      }
    },
    {
      "cell_type": "code",
      "source": [
        "#date is only a marker, there is no real information to be gained from date, so we can drop it\n",
        "\n",
        "df = df.drop(['Date'],axis = 1)\n",
        "df.head()"
      ],
      "metadata": {
        "colab": {
          "base_uri": "https://localhost:8080/",
          "height": 206
        },
        "id": "-OFOsk8FH_fl",
        "outputId": "e292edaf-a7d5-4678-e2ce-54cb190e1599"
      },
      "execution_count": 328,
      "outputs": [
        {
          "output_type": "execute_result",
          "data": {
            "text/plain": [
              "    Open   High    Low  Close    Volume\n",
              "0  40.60  40.76  40.31  40.72  36865322\n",
              "1  40.66  40.74  40.12  40.29  37487476\n",
              "2  40.34  41.78  40.18  41.55  39223692\n",
              "3  41.61  41.91  41.31  41.53  28809375\n",
              "4  41.48  41.69  41.04  41.42  24753438"
            ],
            "text/html": [
              "\n",
              "  <div id=\"df-0c76c82c-ee36-436c-94bd-381cde97e07a\">\n",
              "    <div class=\"colab-df-container\">\n",
              "      <div>\n",
              "<style scoped>\n",
              "    .dataframe tbody tr th:only-of-type {\n",
              "        vertical-align: middle;\n",
              "    }\n",
              "\n",
              "    .dataframe tbody tr th {\n",
              "        vertical-align: top;\n",
              "    }\n",
              "\n",
              "    .dataframe thead th {\n",
              "        text-align: right;\n",
              "    }\n",
              "</style>\n",
              "<table border=\"1\" class=\"dataframe\">\n",
              "  <thead>\n",
              "    <tr style=\"text-align: right;\">\n",
              "      <th></th>\n",
              "      <th>Open</th>\n",
              "      <th>High</th>\n",
              "      <th>Low</th>\n",
              "      <th>Close</th>\n",
              "      <th>Volume</th>\n",
              "    </tr>\n",
              "  </thead>\n",
              "  <tbody>\n",
              "    <tr>\n",
              "      <th>0</th>\n",
              "      <td>40.60</td>\n",
              "      <td>40.76</td>\n",
              "      <td>40.31</td>\n",
              "      <td>40.72</td>\n",
              "      <td>36865322</td>\n",
              "    </tr>\n",
              "    <tr>\n",
              "      <th>1</th>\n",
              "      <td>40.66</td>\n",
              "      <td>40.74</td>\n",
              "      <td>40.12</td>\n",
              "      <td>40.29</td>\n",
              "      <td>37487476</td>\n",
              "    </tr>\n",
              "    <tr>\n",
              "      <th>2</th>\n",
              "      <td>40.34</td>\n",
              "      <td>41.78</td>\n",
              "      <td>40.18</td>\n",
              "      <td>41.55</td>\n",
              "      <td>39223692</td>\n",
              "    </tr>\n",
              "    <tr>\n",
              "      <th>3</th>\n",
              "      <td>41.61</td>\n",
              "      <td>41.91</td>\n",
              "      <td>41.31</td>\n",
              "      <td>41.53</td>\n",
              "      <td>28809375</td>\n",
              "    </tr>\n",
              "    <tr>\n",
              "      <th>4</th>\n",
              "      <td>41.48</td>\n",
              "      <td>41.69</td>\n",
              "      <td>41.04</td>\n",
              "      <td>41.42</td>\n",
              "      <td>24753438</td>\n",
              "    </tr>\n",
              "  </tbody>\n",
              "</table>\n",
              "</div>\n",
              "      <button class=\"colab-df-convert\" onclick=\"convertToInteractive('df-0c76c82c-ee36-436c-94bd-381cde97e07a')\"\n",
              "              title=\"Convert this dataframe to an interactive table.\"\n",
              "              style=\"display:none;\">\n",
              "        \n",
              "  <svg xmlns=\"http://www.w3.org/2000/svg\" height=\"24px\"viewBox=\"0 0 24 24\"\n",
              "       width=\"24px\">\n",
              "    <path d=\"M0 0h24v24H0V0z\" fill=\"none\"/>\n",
              "    <path d=\"M18.56 5.44l.94 2.06.94-2.06 2.06-.94-2.06-.94-.94-2.06-.94 2.06-2.06.94zm-11 1L8.5 8.5l.94-2.06 2.06-.94-2.06-.94L8.5 2.5l-.94 2.06-2.06.94zm10 10l.94 2.06.94-2.06 2.06-.94-2.06-.94-.94-2.06-.94 2.06-2.06.94z\"/><path d=\"M17.41 7.96l-1.37-1.37c-.4-.4-.92-.59-1.43-.59-.52 0-1.04.2-1.43.59L10.3 9.45l-7.72 7.72c-.78.78-.78 2.05 0 2.83L4 21.41c.39.39.9.59 1.41.59.51 0 1.02-.2 1.41-.59l7.78-7.78 2.81-2.81c.8-.78.8-2.07 0-2.86zM5.41 20L4 18.59l7.72-7.72 1.47 1.35L5.41 20z\"/>\n",
              "  </svg>\n",
              "      </button>\n",
              "      \n",
              "  <style>\n",
              "    .colab-df-container {\n",
              "      display:flex;\n",
              "      flex-wrap:wrap;\n",
              "      gap: 12px;\n",
              "    }\n",
              "\n",
              "    .colab-df-convert {\n",
              "      background-color: #E8F0FE;\n",
              "      border: none;\n",
              "      border-radius: 50%;\n",
              "      cursor: pointer;\n",
              "      display: none;\n",
              "      fill: #1967D2;\n",
              "      height: 32px;\n",
              "      padding: 0 0 0 0;\n",
              "      width: 32px;\n",
              "    }\n",
              "\n",
              "    .colab-df-convert:hover {\n",
              "      background-color: #E2EBFA;\n",
              "      box-shadow: 0px 1px 2px rgba(60, 64, 67, 0.3), 0px 1px 3px 1px rgba(60, 64, 67, 0.15);\n",
              "      fill: #174EA6;\n",
              "    }\n",
              "\n",
              "    [theme=dark] .colab-df-convert {\n",
              "      background-color: #3B4455;\n",
              "      fill: #D2E3FC;\n",
              "    }\n",
              "\n",
              "    [theme=dark] .colab-df-convert:hover {\n",
              "      background-color: #434B5C;\n",
              "      box-shadow: 0px 1px 3px 1px rgba(0, 0, 0, 0.15);\n",
              "      filter: drop-shadow(0px 1px 2px rgba(0, 0, 0, 0.3));\n",
              "      fill: #FFFFFF;\n",
              "    }\n",
              "  </style>\n",
              "\n",
              "      <script>\n",
              "        const buttonEl =\n",
              "          document.querySelector('#df-0c76c82c-ee36-436c-94bd-381cde97e07a button.colab-df-convert');\n",
              "        buttonEl.style.display =\n",
              "          google.colab.kernel.accessAllowed ? 'block' : 'none';\n",
              "\n",
              "        async function convertToInteractive(key) {\n",
              "          const element = document.querySelector('#df-0c76c82c-ee36-436c-94bd-381cde97e07a');\n",
              "          const dataTable =\n",
              "            await google.colab.kernel.invokeFunction('convertToInteractive',\n",
              "                                                     [key], {});\n",
              "          if (!dataTable) return;\n",
              "\n",
              "          const docLinkHtml = 'Like what you see? Visit the ' +\n",
              "            '<a target=\"_blank\" href=https://colab.research.google.com/notebooks/data_table.ipynb>data table notebook</a>'\n",
              "            + ' to learn more about interactive tables.';\n",
              "          element.innerHTML = '';\n",
              "          dataTable['output_type'] = 'display_data';\n",
              "          await google.colab.output.renderOutput(dataTable, element);\n",
              "          const docLink = document.createElement('div');\n",
              "          docLink.innerHTML = docLinkHtml;\n",
              "          element.appendChild(docLink);\n",
              "        }\n",
              "      </script>\n",
              "    </div>\n",
              "  </div>\n",
              "  "
            ]
          },
          "metadata": {},
          "execution_count": 328
        }
      ]
    },
    {
      "cell_type": "markdown",
      "source": [
        "## Part 1"
      ],
      "metadata": {
        "id": "0jf9trR_8G-g"
      }
    },
    {
      "cell_type": "markdown",
      "source": [
        "We want to use some window of time in our data to predict the next window of time, since there is about 1511 dates, let us use a window size of 20"
      ],
      "metadata": {
        "id": "v7Y05XR_Hk8p"
      }
    },
    {
      "cell_type": "markdown",
      "source": [
        "Here is the set of functions I will create since we will create 3 models(RNN, LSTM,GRU) we can reuse the functions later on"
      ],
      "metadata": {
        "id": "-W_jrnBhL4Di"
      }
    },
    {
      "cell_type": "code",
      "source": [
        "#Function to normalize data\n",
        "def normalize_data(data):\n",
        "    data = data.astype('float32')\n",
        "    scaler = MinMaxScaler()\n",
        "    scaler.fit_transform(data)\n",
        "    return data"
      ],
      "metadata": {
        "id": "sNJX98X_L1ue"
      },
      "execution_count": 329,
      "outputs": []
    },
    {
      "cell_type": "code",
      "source": [
        "#Function to set up consistent data points\n",
        "def train_validate_test_split(data):\n",
        "    train_size = int(len(data) * 0.75)\n",
        "    validate_size = int(len(data) * 0.9)\n",
        "    train,validate, test = data[0:train_size, :], data[train_size:validate_size, :], data[validate_size:len(data), :]\n",
        "    return train,validate, test"
      ],
      "metadata": {
        "id": "81OxqI1RMlIW"
      },
      "execution_count": 330,
      "outputs": []
    },
    {
      "cell_type": "code",
      "source": [
        "#Function to create  data  windows \n",
        "def window_creation(data):\n",
        "    x, y = [], []\n",
        "    for i in range(len(data)):\n",
        "        end_i = i + 20\n",
        "        out_i = end_i + 20\n",
        "        if out_i > len(data):\n",
        "            break\n",
        "        seq_x, seq_y = data[i:end_i, :], data[end_i:out_i, :]\n",
        "        x.append(seq_x)\n",
        "        y.append(seq_y)\n",
        "    return np.array(x), np.array(y)"
      ],
      "metadata": {
        "id": "ZgyVqz-mHxz3"
      },
      "execution_count": 331,
      "outputs": []
    },
    {
      "cell_type": "code",
      "source": [
        "#Our RNN Model\n",
        "model = Sequential()\n",
        "model.add(SimpleRNN(50, activation='relu', input_shape=(20, 1)))\n",
        "model.add(RepeatVector(20))\n",
        "model.add(SimpleRNN(50, activation='relu', return_sequences=True))\n",
        "model.add(TimeDistributed(Dense(1)))\n",
        "model.compile(optimizer='adam', loss='mean_squared_error', metrics=['mean_squared_error'])"
      ],
      "metadata": {
        "id": "DOaF8W_9KdNm"
      },
      "execution_count": 332,
      "outputs": []
    },
    {
      "cell_type": "markdown",
      "source": [
        "For my purpose, I just want to see how the price in a certain time period affects the price in the future. Since start/Max/end prices are so similar, we can just use one of them for our purposes"
      ],
      "metadata": {
        "id": "0A3IM0TAOGl-"
      }
    },
    {
      "cell_type": "code",
      "source": [
        "data = df['Close'].values\n",
        "data = data.reshape(-1, 1)\n",
        "\n",
        "data = normalize_data(data)\n",
        "train,validate, test = train_validate_test_split(data)\n",
        "x_train, y_train = window_creation(train)\n",
        "x_validate, y_validate = window_creation(validate)\n",
        "x_test, y_test = window_creation(test)"
      ],
      "metadata": {
        "id": "7FECdkP78WeQ"
      },
      "execution_count": 333,
      "outputs": []
    },
    {
      "cell_type": "code",
      "source": [],
      "metadata": {
        "id": "q4i9TdxXRQQe"
      },
      "execution_count": 333,
      "outputs": []
    },
    {
      "cell_type": "code",
      "source": [
        "history = model.fit(x_train, y_train, epochs=50, batch_size=144, verbose=1,\n",
        "         validation_data=(x_validate, y_validate))"
      ],
      "metadata": {
        "colab": {
          "base_uri": "https://localhost:8080/"
        },
        "id": "P6mpo89_QvI2",
        "outputId": "1ea9a2b1-324e-4f09-8e98-a1737d34fdd6"
      },
      "execution_count": 334,
      "outputs": [
        {
          "output_type": "stream",
          "name": "stdout",
          "text": [
            "Epoch 1/50\n",
            "8/8 [==============================] - 3s 117ms/step - loss: 2385.7141 - mean_squared_error: 2385.7144 - val_loss: 2076.2043 - val_mean_squared_error: 2076.2043\n",
            "Epoch 2/50\n",
            "8/8 [==============================] - 0s 25ms/step - loss: 444.3824 - mean_squared_error: 444.3824 - val_loss: 1585.9032 - val_mean_squared_error: 1585.9032\n",
            "Epoch 3/50\n",
            "8/8 [==============================] - 0s 36ms/step - loss: 228.4984 - mean_squared_error: 228.4984 - val_loss: 957.6462 - val_mean_squared_error: 957.6462\n",
            "Epoch 4/50\n",
            "8/8 [==============================] - 0s 23ms/step - loss: 166.1734 - mean_squared_error: 166.1734 - val_loss: 666.8765 - val_mean_squared_error: 666.8766\n",
            "Epoch 5/50\n",
            "8/8 [==============================] - 0s 23ms/step - loss: 134.7773 - mean_squared_error: 134.7773 - val_loss: 567.3392 - val_mean_squared_error: 567.3392\n",
            "Epoch 6/50\n",
            "8/8 [==============================] - 0s 33ms/step - loss: 105.9157 - mean_squared_error: 105.9157 - val_loss: 494.3336 - val_mean_squared_error: 494.3336\n",
            "Epoch 7/50\n",
            "8/8 [==============================] - 0s 42ms/step - loss: 87.2692 - mean_squared_error: 87.2693 - val_loss: 414.5564 - val_mean_squared_error: 414.5564\n",
            "Epoch 8/50\n",
            "8/8 [==============================] - 0s 41ms/step - loss: 68.6378 - mean_squared_error: 68.6378 - val_loss: 330.9833 - val_mean_squared_error: 330.9832\n",
            "Epoch 9/50\n",
            "8/8 [==============================] - 0s 44ms/step - loss: 48.4359 - mean_squared_error: 48.4359 - val_loss: 251.8425 - val_mean_squared_error: 251.8425\n",
            "Epoch 10/50\n",
            "8/8 [==============================] - 0s 35ms/step - loss: 31.3498 - mean_squared_error: 31.3498 - val_loss: 187.7003 - val_mean_squared_error: 187.7003\n",
            "Epoch 11/50\n",
            "8/8 [==============================] - 0s 24ms/step - loss: 18.8349 - mean_squared_error: 18.8349 - val_loss: 153.7907 - val_mean_squared_error: 153.7907\n",
            "Epoch 12/50\n",
            "8/8 [==============================] - 0s 23ms/step - loss: 11.6558 - mean_squared_error: 11.6558 - val_loss: 134.8923 - val_mean_squared_error: 134.8923\n",
            "Epoch 13/50\n",
            "8/8 [==============================] - 0s 24ms/step - loss: 8.8180 - mean_squared_error: 8.8180 - val_loss: 139.6665 - val_mean_squared_error: 139.6665\n",
            "Epoch 14/50\n",
            "8/8 [==============================] - 0s 24ms/step - loss: 8.9475 - mean_squared_error: 8.9475 - val_loss: 140.9154 - val_mean_squared_error: 140.9154\n",
            "Epoch 15/50\n",
            "8/8 [==============================] - 0s 26ms/step - loss: 9.1082 - mean_squared_error: 9.1082 - val_loss: 136.3052 - val_mean_squared_error: 136.3052\n",
            "Epoch 16/50\n",
            "8/8 [==============================] - 0s 24ms/step - loss: 8.3125 - mean_squared_error: 8.3125 - val_loss: 128.6561 - val_mean_squared_error: 128.6561\n",
            "Epoch 17/50\n",
            "8/8 [==============================] - 0s 26ms/step - loss: 8.3445 - mean_squared_error: 8.3445 - val_loss: 128.1470 - val_mean_squared_error: 128.1470\n",
            "Epoch 18/50\n",
            "8/8 [==============================] - 0s 24ms/step - loss: 8.3497 - mean_squared_error: 8.3497 - val_loss: 128.8807 - val_mean_squared_error: 128.8807\n",
            "Epoch 19/50\n",
            "8/8 [==============================] - 0s 24ms/step - loss: 8.3216 - mean_squared_error: 8.3216 - val_loss: 129.4561 - val_mean_squared_error: 129.4561\n",
            "Epoch 20/50\n",
            "8/8 [==============================] - 0s 26ms/step - loss: 8.1996 - mean_squared_error: 8.1996 - val_loss: 131.0827 - val_mean_squared_error: 131.0827\n",
            "Epoch 21/50\n",
            "8/8 [==============================] - 0s 24ms/step - loss: 8.1617 - mean_squared_error: 8.1617 - val_loss: 128.6515 - val_mean_squared_error: 128.6515\n",
            "Epoch 22/50\n",
            "8/8 [==============================] - 0s 25ms/step - loss: 8.2942 - mean_squared_error: 8.2942 - val_loss: 129.6392 - val_mean_squared_error: 129.6392\n",
            "Epoch 23/50\n",
            "8/8 [==============================] - 0s 24ms/step - loss: 8.2199 - mean_squared_error: 8.2199 - val_loss: 130.3904 - val_mean_squared_error: 130.3904\n",
            "Epoch 24/50\n",
            "8/8 [==============================] - 0s 24ms/step - loss: 8.1464 - mean_squared_error: 8.1464 - val_loss: 130.5353 - val_mean_squared_error: 130.5353\n",
            "Epoch 25/50\n",
            "8/8 [==============================] - 0s 24ms/step - loss: 8.1972 - mean_squared_error: 8.1972 - val_loss: 129.3510 - val_mean_squared_error: 129.3510\n",
            "Epoch 26/50\n",
            "8/8 [==============================] - 0s 26ms/step - loss: 8.1938 - mean_squared_error: 8.1938 - val_loss: 131.0957 - val_mean_squared_error: 131.0957\n",
            "Epoch 27/50\n",
            "8/8 [==============================] - 0s 23ms/step - loss: 8.2074 - mean_squared_error: 8.2074 - val_loss: 129.3023 - val_mean_squared_error: 129.3023\n",
            "Epoch 28/50\n",
            "8/8 [==============================] - 0s 28ms/step - loss: 8.4416 - mean_squared_error: 8.4416 - val_loss: 129.5098 - val_mean_squared_error: 129.5098\n",
            "Epoch 29/50\n",
            "8/8 [==============================] - 0s 41ms/step - loss: 8.5789 - mean_squared_error: 8.5789 - val_loss: 130.3644 - val_mean_squared_error: 130.3644\n",
            "Epoch 30/50\n",
            "8/8 [==============================] - 0s 48ms/step - loss: 8.4781 - mean_squared_error: 8.4781 - val_loss: 128.4905 - val_mean_squared_error: 128.4905\n",
            "Epoch 31/50\n",
            "8/8 [==============================] - 0s 35ms/step - loss: 8.1687 - mean_squared_error: 8.1687 - val_loss: 130.8166 - val_mean_squared_error: 130.8166\n",
            "Epoch 32/50\n",
            "8/8 [==============================] - 0s 23ms/step - loss: 8.1619 - mean_squared_error: 8.1619 - val_loss: 132.2377 - val_mean_squared_error: 132.2377\n",
            "Epoch 33/50\n",
            "8/8 [==============================] - 0s 25ms/step - loss: 8.2619 - mean_squared_error: 8.2619 - val_loss: 130.7855 - val_mean_squared_error: 130.7855\n",
            "Epoch 34/50\n",
            "8/8 [==============================] - 0s 32ms/step - loss: 8.1913 - mean_squared_error: 8.1913 - val_loss: 132.4847 - val_mean_squared_error: 132.4847\n",
            "Epoch 35/50\n",
            "8/8 [==============================] - 0s 23ms/step - loss: 8.2176 - mean_squared_error: 8.2176 - val_loss: 133.1523 - val_mean_squared_error: 133.1523\n",
            "Epoch 36/50\n",
            "8/8 [==============================] - 0s 23ms/step - loss: 8.1605 - mean_squared_error: 8.1605 - val_loss: 131.7756 - val_mean_squared_error: 131.7756\n",
            "Epoch 37/50\n",
            "8/8 [==============================] - 0s 22ms/step - loss: 8.3114 - mean_squared_error: 8.3114 - val_loss: 135.9143 - val_mean_squared_error: 135.9143\n",
            "Epoch 38/50\n",
            "8/8 [==============================] - 0s 37ms/step - loss: 8.3640 - mean_squared_error: 8.3640 - val_loss: 139.0902 - val_mean_squared_error: 139.0902\n",
            "Epoch 39/50\n",
            "8/8 [==============================] - 0s 24ms/step - loss: 8.4106 - mean_squared_error: 8.4106 - val_loss: 135.7374 - val_mean_squared_error: 135.7374\n",
            "Epoch 40/50\n",
            "8/8 [==============================] - 0s 40ms/step - loss: 8.2048 - mean_squared_error: 8.2048 - val_loss: 135.1168 - val_mean_squared_error: 135.1168\n",
            "Epoch 41/50\n",
            "8/8 [==============================] - 0s 40ms/step - loss: 8.2418 - mean_squared_error: 8.2418 - val_loss: 141.3848 - val_mean_squared_error: 141.3848\n",
            "Epoch 42/50\n",
            "8/8 [==============================] - 0s 42ms/step - loss: 8.5271 - mean_squared_error: 8.5271 - val_loss: 141.1655 - val_mean_squared_error: 141.1654\n",
            "Epoch 43/50\n",
            "8/8 [==============================] - 0s 37ms/step - loss: 8.2634 - mean_squared_error: 8.2634 - val_loss: 135.8672 - val_mean_squared_error: 135.8672\n",
            "Epoch 44/50\n",
            "8/8 [==============================] - 0s 24ms/step - loss: 8.4214 - mean_squared_error: 8.4214 - val_loss: 129.8466 - val_mean_squared_error: 129.8466\n",
            "Epoch 45/50\n",
            "8/8 [==============================] - 0s 24ms/step - loss: 8.4855 - mean_squared_error: 8.4855 - val_loss: 128.9974 - val_mean_squared_error: 128.9974\n",
            "Epoch 46/50\n",
            "8/8 [==============================] - 0s 24ms/step - loss: 8.2787 - mean_squared_error: 8.2787 - val_loss: 133.8114 - val_mean_squared_error: 133.8114\n",
            "Epoch 47/50\n",
            "8/8 [==============================] - 0s 23ms/step - loss: 8.1429 - mean_squared_error: 8.1429 - val_loss: 133.3447 - val_mean_squared_error: 133.3447\n",
            "Epoch 48/50\n",
            "8/8 [==============================] - 0s 24ms/step - loss: 8.1365 - mean_squared_error: 8.1365 - val_loss: 134.1374 - val_mean_squared_error: 134.1374\n",
            "Epoch 49/50\n",
            "8/8 [==============================] - 0s 23ms/step - loss: 8.2305 - mean_squared_error: 8.2305 - val_loss: 132.7958 - val_mean_squared_error: 132.7958\n",
            "Epoch 50/50\n",
            "8/8 [==============================] - 0s 22ms/step - loss: 8.2591 - mean_squared_error: 8.2591 - val_loss: 132.2005 - val_mean_squared_error: 132.2005\n"
          ]
        }
      ]
    },
    {
      "cell_type": "code",
      "source": [
        "results = model.evaluate(x_test, y_test, batch_size=144)\n",
        "print(\"test loss, test acc:\", results)"
      ],
      "metadata": {
        "colab": {
          "base_uri": "https://localhost:8080/"
        },
        "id": "Ozg5zpYdTmYP",
        "outputId": "4a13ba85-a781-447b-8ba1-5b3abd5b0fc2"
      },
      "execution_count": 335,
      "outputs": [
        {
          "output_type": "stream",
          "name": "stdout",
          "text": [
            "1/1 [==============================] - 0s 24ms/step - loss: 79.0040 - mean_squared_error: 79.0040\n",
            "test loss, test acc: [79.00399780273438, 79.00399780273438]\n"
          ]
        }
      ]
    },
    {
      "cell_type": "markdown",
      "source": [
        "## Part 2\n",
        "Replace Simple RNN with LSTM and GRU"
      ],
      "metadata": {
        "id": "a4oYAnHMUj2M"
      }
    },
    {
      "cell_type": "code",
      "source": [
        "#Our LSTM Model\n",
        "model2 = Sequential()\n",
        "model2.add(LSTM(50, activation='relu', input_shape=(20, 1)))\n",
        "model2.add(RepeatVector(20))\n",
        "model2.add(LSTM(50, activation='relu', return_sequences=True))\n",
        "model2.add(TimeDistributed(Dense(1)))\n",
        "model2.compile(optimizer='adam', loss='mean_squared_error', metrics=['mean_squared_error'])"
      ],
      "metadata": {
        "id": "nc4aaf1QUp3n"
      },
      "execution_count": 336,
      "outputs": []
    },
    {
      "cell_type": "code",
      "source": [
        "data = df['Close'].values\n",
        "data = data.reshape(-1, 1)\n",
        "\n",
        "data = normalize_data(data)\n",
        "train,validate, test = train_validate_test_split(data)\n",
        "x_train, y_train = window_creation(train)\n",
        "x_validate, y_validate = window_creation(validate)\n",
        "x_test, y_test = window_creation(test)"
      ],
      "metadata": {
        "id": "hxVMwXMEU-B0"
      },
      "execution_count": 337,
      "outputs": []
    },
    {
      "cell_type": "code",
      "source": [
        "history = model2.fit(x_train, y_train, epochs=50, batch_size=144, verbose=1,\n",
        "         validation_data=(x_validate, y_validate))"
      ],
      "metadata": {
        "colab": {
          "base_uri": "https://localhost:8080/"
        },
        "id": "VkUO_PZTUz8S",
        "outputId": "8d4699a4-569b-435d-e705-b618cf57f030"
      },
      "execution_count": 338,
      "outputs": [
        {
          "output_type": "stream",
          "name": "stdout",
          "text": [
            "Epoch 1/50\n",
            "8/8 [==============================] - 5s 207ms/step - loss: 10203.8174 - mean_squared_error: 10203.8174 - val_loss: 34654.5039 - val_mean_squared_error: 34654.5078\n",
            "Epoch 2/50\n",
            "8/8 [==============================] - 0s 50ms/step - loss: 2672.5525 - mean_squared_error: 2672.5522 - val_loss: 17297.3535 - val_mean_squared_error: 17297.3535\n",
            "Epoch 3/50\n",
            "8/8 [==============================] - 0s 49ms/step - loss: 2168.1694 - mean_squared_error: 2168.1694 - val_loss: 16207.7676 - val_mean_squared_error: 16207.7666\n",
            "Epoch 4/50\n",
            "8/8 [==============================] - 0s 53ms/step - loss: 1938.0170 - mean_squared_error: 1938.0170 - val_loss: 9927.6963 - val_mean_squared_error: 9927.6963\n",
            "Epoch 5/50\n",
            "8/8 [==============================] - 0s 50ms/step - loss: 1808.5262 - mean_squared_error: 1808.5261 - val_loss: 7876.0093 - val_mean_squared_error: 7876.0098\n",
            "Epoch 6/50\n",
            "8/8 [==============================] - 0s 50ms/step - loss: 1802.4491 - mean_squared_error: 1802.4489 - val_loss: 7516.4653 - val_mean_squared_error: 7516.4653\n",
            "Epoch 7/50\n",
            "8/8 [==============================] - 0s 49ms/step - loss: 1776.8622 - mean_squared_error: 1776.8622 - val_loss: 7040.0195 - val_mean_squared_error: 7040.0190\n",
            "Epoch 8/50\n",
            "8/8 [==============================] - 0s 49ms/step - loss: 1584.0934 - mean_squared_error: 1584.0933 - val_loss: 5865.0483 - val_mean_squared_error: 5865.0483\n",
            "Epoch 9/50\n",
            "8/8 [==============================] - 0s 52ms/step - loss: 1195.9211 - mean_squared_error: 1195.9213 - val_loss: 4611.5542 - val_mean_squared_error: 4611.5542\n",
            "Epoch 10/50\n",
            "8/8 [==============================] - 0s 49ms/step - loss: 925.9517 - mean_squared_error: 925.9517 - val_loss: 3694.0471 - val_mean_squared_error: 3694.0471\n",
            "Epoch 11/50\n",
            "8/8 [==============================] - 0s 49ms/step - loss: 888.2363 - mean_squared_error: 888.2363 - val_loss: 3966.8389 - val_mean_squared_error: 3966.8389\n",
            "Epoch 12/50\n",
            "8/8 [==============================] - 0s 48ms/step - loss: 831.9005 - mean_squared_error: 831.9005 - val_loss: 3373.7673 - val_mean_squared_error: 3373.7673\n",
            "Epoch 13/50\n",
            "8/8 [==============================] - 0s 50ms/step - loss: 643.5969 - mean_squared_error: 643.5968 - val_loss: 2512.4514 - val_mean_squared_error: 2512.4517\n",
            "Epoch 14/50\n",
            "8/8 [==============================] - 0s 51ms/step - loss: 406.0135 - mean_squared_error: 406.0135 - val_loss: 1711.1090 - val_mean_squared_error: 1711.1090\n",
            "Epoch 15/50\n",
            "8/8 [==============================] - 0s 49ms/step - loss: 241.5415 - mean_squared_error: 241.5415 - val_loss: 1223.7183 - val_mean_squared_error: 1223.7181\n",
            "Epoch 16/50\n",
            "8/8 [==============================] - 0s 51ms/step - loss: 138.7473 - mean_squared_error: 138.7473 - val_loss: 1231.4092 - val_mean_squared_error: 1231.4091\n",
            "Epoch 17/50\n",
            "8/8 [==============================] - 0s 54ms/step - loss: 97.1441 - mean_squared_error: 97.1441 - val_loss: 905.0107 - val_mean_squared_error: 905.0107\n",
            "Epoch 18/50\n",
            "8/8 [==============================] - 0s 49ms/step - loss: 72.1869 - mean_squared_error: 72.1869 - val_loss: 701.1271 - val_mean_squared_error: 701.1271\n",
            "Epoch 19/50\n",
            "8/8 [==============================] - 0s 52ms/step - loss: 50.7601 - mean_squared_error: 50.7601 - val_loss: 1687.6212 - val_mean_squared_error: 1687.6211\n",
            "Epoch 20/50\n",
            "8/8 [==============================] - 0s 50ms/step - loss: 37.2609 - mean_squared_error: 37.2609 - val_loss: 873.3683 - val_mean_squared_error: 873.3684\n",
            "Epoch 21/50\n",
            "8/8 [==============================] - 0s 50ms/step - loss: 27.4535 - mean_squared_error: 27.4535 - val_loss: 852.3933 - val_mean_squared_error: 852.3933\n",
            "Epoch 22/50\n",
            "8/8 [==============================] - 0s 48ms/step - loss: 21.8017 - mean_squared_error: 21.8017 - val_loss: 466.1789 - val_mean_squared_error: 466.1790\n",
            "Epoch 23/50\n",
            "8/8 [==============================] - 0s 51ms/step - loss: 17.8985 - mean_squared_error: 17.8985 - val_loss: 909.7065 - val_mean_squared_error: 909.7066\n",
            "Epoch 24/50\n",
            "8/8 [==============================] - 0s 51ms/step - loss: 17.4587 - mean_squared_error: 17.4587 - val_loss: 423.9875 - val_mean_squared_error: 423.9875\n",
            "Epoch 25/50\n",
            "8/8 [==============================] - 0s 49ms/step - loss: 15.1548 - mean_squared_error: 15.1548 - val_loss: 674.2828 - val_mean_squared_error: 674.2828\n",
            "Epoch 26/50\n",
            "8/8 [==============================] - 0s 49ms/step - loss: 14.1206 - mean_squared_error: 14.1206 - val_loss: 1076.2406 - val_mean_squared_error: 1076.2406\n",
            "Epoch 27/50\n",
            "8/8 [==============================] - 0s 53ms/step - loss: 13.6075 - mean_squared_error: 13.6075 - val_loss: 890.8925 - val_mean_squared_error: 890.8925\n",
            "Epoch 28/50\n",
            "8/8 [==============================] - 0s 49ms/step - loss: 12.8551 - mean_squared_error: 12.8551 - val_loss: 826.0815 - val_mean_squared_error: 826.0815\n",
            "Epoch 29/50\n",
            "8/8 [==============================] - 0s 54ms/step - loss: 12.1013 - mean_squared_error: 12.1013 - val_loss: 761.4280 - val_mean_squared_error: 761.4281\n",
            "Epoch 30/50\n",
            "8/8 [==============================] - 0s 53ms/step - loss: 11.8094 - mean_squared_error: 11.8094 - val_loss: 684.8431 - val_mean_squared_error: 684.8431\n",
            "Epoch 31/50\n",
            "8/8 [==============================] - 0s 61ms/step - loss: 11.8297 - mean_squared_error: 11.8297 - val_loss: 874.5934 - val_mean_squared_error: 874.5934\n",
            "Epoch 32/50\n",
            "8/8 [==============================] - 0s 50ms/step - loss: 12.1789 - mean_squared_error: 12.1789 - val_loss: 587.2771 - val_mean_squared_error: 587.2771\n",
            "Epoch 33/50\n",
            "8/8 [==============================] - 0s 51ms/step - loss: 12.3410 - mean_squared_error: 12.3410 - val_loss: 915.8377 - val_mean_squared_error: 915.8377\n",
            "Epoch 34/50\n",
            "8/8 [==============================] - 0s 50ms/step - loss: 11.1825 - mean_squared_error: 11.1825 - val_loss: 707.8984 - val_mean_squared_error: 707.8984\n",
            "Epoch 35/50\n",
            "8/8 [==============================] - 0s 49ms/step - loss: 10.4741 - mean_squared_error: 10.4741 - val_loss: 697.5715 - val_mean_squared_error: 697.5715\n",
            "Epoch 36/50\n",
            "8/8 [==============================] - 0s 50ms/step - loss: 10.2498 - mean_squared_error: 10.2498 - val_loss: 651.9078 - val_mean_squared_error: 651.9078\n",
            "Epoch 37/50\n",
            "8/8 [==============================] - 0s 49ms/step - loss: 10.0499 - mean_squared_error: 10.0499 - val_loss: 608.6854 - val_mean_squared_error: 608.6854\n",
            "Epoch 38/50\n",
            "8/8 [==============================] - 0s 50ms/step - loss: 9.9388 - mean_squared_error: 9.9388 - val_loss: 410.0863 - val_mean_squared_error: 410.0863\n",
            "Epoch 39/50\n",
            "8/8 [==============================] - 0s 53ms/step - loss: 9.8276 - mean_squared_error: 9.8276 - val_loss: 404.8573 - val_mean_squared_error: 404.8573\n",
            "Epoch 40/50\n",
            "8/8 [==============================] - 0s 52ms/step - loss: 9.9795 - mean_squared_error: 9.9795 - val_loss: 381.7684 - val_mean_squared_error: 381.7684\n",
            "Epoch 41/50\n",
            "8/8 [==============================] - 0s 55ms/step - loss: 9.7313 - mean_squared_error: 9.7313 - val_loss: 358.9179 - val_mean_squared_error: 358.9179\n",
            "Epoch 42/50\n",
            "8/8 [==============================] - 0s 52ms/step - loss: 9.7070 - mean_squared_error: 9.7070 - val_loss: 365.4243 - val_mean_squared_error: 365.4243\n",
            "Epoch 43/50\n",
            "8/8 [==============================] - 0s 51ms/step - loss: 9.6897 - mean_squared_error: 9.6897 - val_loss: 373.5050 - val_mean_squared_error: 373.5050\n",
            "Epoch 44/50\n",
            "8/8 [==============================] - 0s 52ms/step - loss: 9.5065 - mean_squared_error: 9.5065 - val_loss: 389.9764 - val_mean_squared_error: 389.9764\n",
            "Epoch 45/50\n",
            "8/8 [==============================] - 0s 49ms/step - loss: 9.6598 - mean_squared_error: 9.6598 - val_loss: 362.5496 - val_mean_squared_error: 362.5496\n",
            "Epoch 46/50\n",
            "8/8 [==============================] - 0s 52ms/step - loss: 9.1994 - mean_squared_error: 9.1994 - val_loss: 344.9569 - val_mean_squared_error: 344.9569\n",
            "Epoch 47/50\n",
            "8/8 [==============================] - 0s 52ms/step - loss: 9.3137 - mean_squared_error: 9.3137 - val_loss: 347.4246 - val_mean_squared_error: 347.4246\n",
            "Epoch 48/50\n",
            "8/8 [==============================] - 0s 53ms/step - loss: 9.1455 - mean_squared_error: 9.1455 - val_loss: 341.7245 - val_mean_squared_error: 341.7245\n",
            "Epoch 49/50\n",
            "8/8 [==============================] - 0s 51ms/step - loss: 9.8155 - mean_squared_error: 9.8155 - val_loss: 337.4579 - val_mean_squared_error: 337.4579\n",
            "Epoch 50/50\n",
            "8/8 [==============================] - 0s 50ms/step - loss: 9.9732 - mean_squared_error: 9.9732 - val_loss: 369.2143 - val_mean_squared_error: 369.2143\n"
          ]
        }
      ]
    },
    {
      "cell_type": "code",
      "source": [
        "results = model2.evaluate(x_test, y_test, batch_size=144)\n",
        "print(\"test loss, test acc:\", results)"
      ],
      "metadata": {
        "colab": {
          "base_uri": "https://localhost:8080/"
        },
        "id": "f3rC_UtoU1Og",
        "outputId": "94a52205-d681-4f76-8764-9c1e73193948"
      },
      "execution_count": 339,
      "outputs": [
        {
          "output_type": "stream",
          "name": "stdout",
          "text": [
            "1/1 [==============================] - 0s 38ms/step - loss: 264.0083 - mean_squared_error: 264.0083\n",
            "test loss, test acc: [264.0083312988281, 264.0083312988281]\n"
          ]
        }
      ]
    },
    {
      "cell_type": "markdown",
      "source": [
        "GRU model\n"
      ],
      "metadata": {
        "id": "TUaL99niVENI"
      }
    },
    {
      "cell_type": "code",
      "source": [
        "#Our LSTM Model\n",
        "model3 = Sequential()\n",
        "model3.add(GRU(50, activation='relu', input_shape=(20, 1)))\n",
        "model3.add(RepeatVector(20))\n",
        "model3.add(GRU(50, activation='relu', return_sequences=True))\n",
        "model3.add(TimeDistributed(Dense(1)))\n",
        "model3.compile(optimizer='adam', loss='mean_squared_error', metrics=['mean_squared_error'])"
      ],
      "metadata": {
        "id": "wNSwSSoFVG8B"
      },
      "execution_count": 340,
      "outputs": []
    },
    {
      "cell_type": "code",
      "source": [
        "data = df['Close'].values\n",
        "data = data.reshape(-1, 1)\n",
        "\n",
        "data = normalize_data(data)\n",
        "train,validate, test = train_validate_test_split(data)\n",
        "x_train, y_train = window_creation(train)\n",
        "x_validate, y_validate = window_creation(validate)\n",
        "x_test, y_test = window_creation(test)"
      ],
      "metadata": {
        "id": "0SGnYe7KVG8B"
      },
      "execution_count": 341,
      "outputs": []
    },
    {
      "cell_type": "code",
      "source": [
        "history = model3.fit(x_train, y_train, epochs=50, batch_size=144, verbose=1,\n",
        "         validation_data=(x_validate, y_validate))"
      ],
      "metadata": {
        "colab": {
          "base_uri": "https://localhost:8080/"
        },
        "outputId": "e617618a-4aa8-4f1f-cdd9-7d8c7fac98d2",
        "id": "5hyhHxpfVG8B"
      },
      "execution_count": 342,
      "outputs": [
        {
          "output_type": "stream",
          "name": "stdout",
          "text": [
            "Epoch 1/50\n",
            "8/8 [==============================] - 4s 113ms/step - loss: 6257.3853 - mean_squared_error: 6257.3857 - val_loss: 22579.9336 - val_mean_squared_error: 22579.9336\n",
            "Epoch 2/50\n",
            "8/8 [==============================] - 0s 47ms/step - loss: 3842.1138 - mean_squared_error: 3842.1133 - val_loss: 11228.5479 - val_mean_squared_error: 11228.5469\n",
            "Epoch 3/50\n",
            "8/8 [==============================] - 0s 47ms/step - loss: 1502.3032 - mean_squared_error: 1502.3032 - val_loss: 1599.6088 - val_mean_squared_error: 1599.6088\n",
            "Epoch 4/50\n",
            "8/8 [==============================] - 0s 52ms/step - loss: 352.6115 - mean_squared_error: 352.6115 - val_loss: 693.5213 - val_mean_squared_error: 693.5213\n",
            "Epoch 5/50\n",
            "8/8 [==============================] - 0s 55ms/step - loss: 120.4070 - mean_squared_error: 120.4071 - val_loss: 744.5900 - val_mean_squared_error: 744.5900\n",
            "Epoch 6/50\n",
            "8/8 [==============================] - 0s 54ms/step - loss: 126.6110 - mean_squared_error: 126.6110 - val_loss: 399.4129 - val_mean_squared_error: 399.4130\n",
            "Epoch 7/50\n",
            "8/8 [==============================] - 0s 48ms/step - loss: 71.6800 - mean_squared_error: 71.6800 - val_loss: 383.5726 - val_mean_squared_error: 383.5726\n",
            "Epoch 8/50\n",
            "8/8 [==============================] - 0s 47ms/step - loss: 68.2506 - mean_squared_error: 68.2506 - val_loss: 335.6573 - val_mean_squared_error: 335.6573\n",
            "Epoch 9/50\n",
            "8/8 [==============================] - 0s 51ms/step - loss: 60.1695 - mean_squared_error: 60.1695 - val_loss: 343.0906 - val_mean_squared_error: 343.0906\n",
            "Epoch 10/50\n",
            "8/8 [==============================] - 0s 49ms/step - loss: 55.6171 - mean_squared_error: 55.6171 - val_loss: 308.7030 - val_mean_squared_error: 308.7030\n",
            "Epoch 11/50\n",
            "8/8 [==============================] - 0s 46ms/step - loss: 52.7317 - mean_squared_error: 52.7317 - val_loss: 297.1112 - val_mean_squared_error: 297.1113\n",
            "Epoch 12/50\n",
            "8/8 [==============================] - 0s 52ms/step - loss: 49.3500 - mean_squared_error: 49.3500 - val_loss: 295.2883 - val_mean_squared_error: 295.2883\n",
            "Epoch 13/50\n",
            "8/8 [==============================] - 0s 50ms/step - loss: 46.3993 - mean_squared_error: 46.3993 - val_loss: 275.6471 - val_mean_squared_error: 275.6471\n",
            "Epoch 14/50\n",
            "8/8 [==============================] - 0s 50ms/step - loss: 43.8032 - mean_squared_error: 43.8031 - val_loss: 266.1763 - val_mean_squared_error: 266.1763\n",
            "Epoch 15/50\n",
            "8/8 [==============================] - 0s 47ms/step - loss: 41.1175 - mean_squared_error: 41.1175 - val_loss: 258.0626 - val_mean_squared_error: 258.0626\n",
            "Epoch 16/50\n",
            "8/8 [==============================] - 0s 49ms/step - loss: 38.6406 - mean_squared_error: 38.6406 - val_loss: 245.9569 - val_mean_squared_error: 245.9569\n",
            "Epoch 17/50\n",
            "8/8 [==============================] - 0s 49ms/step - loss: 36.3611 - mean_squared_error: 36.3611 - val_loss: 237.4356 - val_mean_squared_error: 237.4356\n",
            "Epoch 18/50\n",
            "8/8 [==============================] - 0s 47ms/step - loss: 34.0677 - mean_squared_error: 34.0677 - val_loss: 230.0701 - val_mean_squared_error: 230.0701\n",
            "Epoch 19/50\n",
            "8/8 [==============================] - 0s 49ms/step - loss: 32.0521 - mean_squared_error: 32.0521 - val_loss: 221.1601 - val_mean_squared_error: 221.1601\n",
            "Epoch 20/50\n",
            "8/8 [==============================] - 0s 49ms/step - loss: 30.1226 - mean_squared_error: 30.1226 - val_loss: 214.5468 - val_mean_squared_error: 214.5468\n",
            "Epoch 21/50\n",
            "8/8 [==============================] - 0s 46ms/step - loss: 28.1523 - mean_squared_error: 28.1523 - val_loss: 204.1672 - val_mean_squared_error: 204.1672\n",
            "Epoch 22/50\n",
            "8/8 [==============================] - 0s 47ms/step - loss: 25.0687 - mean_squared_error: 25.0687 - val_loss: 190.0925 - val_mean_squared_error: 190.0925\n",
            "Epoch 23/50\n",
            "8/8 [==============================] - 0s 47ms/step - loss: 21.3186 - mean_squared_error: 21.3186 - val_loss: 174.7401 - val_mean_squared_error: 174.7401\n",
            "Epoch 24/50\n",
            "8/8 [==============================] - 0s 45ms/step - loss: 17.5755 - mean_squared_error: 17.5755 - val_loss: 160.3977 - val_mean_squared_error: 160.3977\n",
            "Epoch 25/50\n",
            "8/8 [==============================] - 0s 48ms/step - loss: 14.2564 - mean_squared_error: 14.2564 - val_loss: 147.7783 - val_mean_squared_error: 147.7783\n",
            "Epoch 26/50\n",
            "8/8 [==============================] - 0s 46ms/step - loss: 11.5911 - mean_squared_error: 11.5911 - val_loss: 139.7777 - val_mean_squared_error: 139.7777\n",
            "Epoch 27/50\n",
            "8/8 [==============================] - 0s 46ms/step - loss: 9.7735 - mean_squared_error: 9.7735 - val_loss: 134.6837 - val_mean_squared_error: 134.6837\n",
            "Epoch 28/50\n",
            "8/8 [==============================] - 0s 48ms/step - loss: 8.7167 - mean_squared_error: 8.7167 - val_loss: 133.1272 - val_mean_squared_error: 133.1272\n",
            "Epoch 29/50\n",
            "8/8 [==============================] - 0s 46ms/step - loss: 8.3119 - mean_squared_error: 8.3119 - val_loss: 133.7215 - val_mean_squared_error: 133.7215\n",
            "Epoch 30/50\n",
            "8/8 [==============================] - 0s 49ms/step - loss: 8.1621 - mean_squared_error: 8.1621 - val_loss: 131.5552 - val_mean_squared_error: 131.5552\n",
            "Epoch 31/50\n",
            "8/8 [==============================] - 0s 47ms/step - loss: 8.1378 - mean_squared_error: 8.1378 - val_loss: 133.9791 - val_mean_squared_error: 133.9791\n",
            "Epoch 32/50\n",
            "8/8 [==============================] - 0s 47ms/step - loss: 8.1171 - mean_squared_error: 8.1171 - val_loss: 132.4800 - val_mean_squared_error: 132.4800\n",
            "Epoch 33/50\n",
            "8/8 [==============================] - 0s 47ms/step - loss: 8.1350 - mean_squared_error: 8.1350 - val_loss: 134.8973 - val_mean_squared_error: 134.8973\n",
            "Epoch 34/50\n",
            "8/8 [==============================] - 0s 46ms/step - loss: 8.1379 - mean_squared_error: 8.1379 - val_loss: 132.9102 - val_mean_squared_error: 132.9102\n",
            "Epoch 35/50\n",
            "8/8 [==============================] - 0s 46ms/step - loss: 8.1119 - mean_squared_error: 8.1119 - val_loss: 134.9030 - val_mean_squared_error: 134.9030\n",
            "Epoch 36/50\n",
            "8/8 [==============================] - 0s 49ms/step - loss: 8.0994 - mean_squared_error: 8.0994 - val_loss: 134.3806 - val_mean_squared_error: 134.3806\n",
            "Epoch 37/50\n",
            "8/8 [==============================] - 0s 45ms/step - loss: 8.1103 - mean_squared_error: 8.1103 - val_loss: 135.0106 - val_mean_squared_error: 135.0107\n",
            "Epoch 38/50\n",
            "8/8 [==============================] - 0s 47ms/step - loss: 8.0991 - mean_squared_error: 8.0991 - val_loss: 134.3486 - val_mean_squared_error: 134.3486\n",
            "Epoch 39/50\n",
            "8/8 [==============================] - 0s 46ms/step - loss: 8.0827 - mean_squared_error: 8.0827 - val_loss: 136.3440 - val_mean_squared_error: 136.3441\n",
            "Epoch 40/50\n",
            "8/8 [==============================] - 0s 47ms/step - loss: 8.1220 - mean_squared_error: 8.1220 - val_loss: 133.3879 - val_mean_squared_error: 133.3879\n",
            "Epoch 41/50\n",
            "8/8 [==============================] - 0s 50ms/step - loss: 8.1097 - mean_squared_error: 8.1097 - val_loss: 141.8458 - val_mean_squared_error: 141.8458\n",
            "Epoch 42/50\n",
            "8/8 [==============================] - 0s 48ms/step - loss: 8.1135 - mean_squared_error: 8.1135 - val_loss: 134.8734 - val_mean_squared_error: 134.8734\n",
            "Epoch 43/50\n",
            "8/8 [==============================] - 0s 46ms/step - loss: 8.0765 - mean_squared_error: 8.0765 - val_loss: 143.0599 - val_mean_squared_error: 143.0599\n",
            "Epoch 44/50\n",
            "8/8 [==============================] - 0s 51ms/step - loss: 8.0575 - mean_squared_error: 8.0575 - val_loss: 144.4131 - val_mean_squared_error: 144.4131\n",
            "Epoch 45/50\n",
            "8/8 [==============================] - 0s 46ms/step - loss: 8.0546 - mean_squared_error: 8.0546 - val_loss: 143.1143 - val_mean_squared_error: 143.1143\n",
            "Epoch 46/50\n",
            "8/8 [==============================] - 0s 48ms/step - loss: 8.0790 - mean_squared_error: 8.0790 - val_loss: 137.6372 - val_mean_squared_error: 137.6372\n",
            "Epoch 47/50\n",
            "8/8 [==============================] - 0s 46ms/step - loss: 8.1879 - mean_squared_error: 8.1879 - val_loss: 147.3259 - val_mean_squared_error: 147.3259\n",
            "Epoch 48/50\n",
            "8/8 [==============================] - 0s 46ms/step - loss: 8.1382 - mean_squared_error: 8.1382 - val_loss: 135.9621 - val_mean_squared_error: 135.9621\n",
            "Epoch 49/50\n",
            "8/8 [==============================] - 0s 48ms/step - loss: 8.0819 - mean_squared_error: 8.0819 - val_loss: 145.5733 - val_mean_squared_error: 145.5733\n",
            "Epoch 50/50\n",
            "8/8 [==============================] - 0s 48ms/step - loss: 8.0501 - mean_squared_error: 8.0501 - val_loss: 143.7672 - val_mean_squared_error: 143.7672\n"
          ]
        }
      ]
    },
    {
      "cell_type": "code",
      "source": [
        "results = model3.evaluate(x_test, y_test, batch_size=144)\n",
        "print(\"test loss, test acc:\", results)"
      ],
      "metadata": {
        "colab": {
          "base_uri": "https://localhost:8080/"
        },
        "id": "BCoBIgRyVG8B",
        "outputId": "b3a25bcf-9529-42e7-a32a-7d3934ebac87"
      },
      "execution_count": 343,
      "outputs": [
        {
          "output_type": "stream",
          "name": "stdout",
          "text": [
            "1/1 [==============================] - 0s 31ms/step - loss: 105.3524 - mean_squared_error: 105.3524\n",
            "test loss, test acc: [105.35235595703125, 105.35235595703125]\n"
          ]
        }
      ]
    },
    {
      "cell_type": "markdown",
      "source": [
        "## Part 2 analysis\n",
        "\n",
        "It seems like the regualr RNN model and the GRU Model seems to have the best accuracy and least mean squared error. In the way I did the modeling, which was to window the time period of where I am looking, it negated most of the advantages that LSTM has over GRU and RNN modeling."
      ],
      "metadata": {
        "id": "t4Vk8YFeVUgn"
      }
    },
    {
      "cell_type": "markdown",
      "source": [
        "## Part 3\n",
        "\n",
        "You could use a traditional Feed-forward network to solve the same problem by transforming the time-series data to a one-hot-encoding. Which although would give way too many features, is still possible"
      ],
      "metadata": {
        "id": "89bbduVZ5S5K"
      }
    }
  ]
}